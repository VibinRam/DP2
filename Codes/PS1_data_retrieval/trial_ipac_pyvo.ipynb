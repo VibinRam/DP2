{
 "cells": [
  {
   "cell_type": "code",
   "execution_count": 67,
   "metadata": {},
   "outputs": [],
   "source": [
    "import numpy as np\n",
    "import pandas as pd\n",
    "import pyvo"
   ]
  },
  {
   "cell_type": "code",
   "execution_count": 91,
   "metadata": {},
   "outputs": [],
   "source": [
    "service = pyvo.dal.TAPService('https://irsa.ipac.caltech.edu/TAP')\n",
    "mass_2_sample = service.run_async(\"\"\"\n",
    "           SELECT ra,dec,j_m,j_msigcom,h_m,h_msigcom,k_m,k_msigcom,ph_qual,cc_flg\n",
    "           FROM fp_psc\n",
    "           WHERE CONTAINS(POINT('ICRS',ra, dec), CIRCLE('ICRS',202.48417,47.23056,0.4))=1\n",
    "    \"\"\")\n",
    "\n",
    "# Wait for 23s."
   ]
  },
  {
   "cell_type": "code",
   "execution_count": 89,
   "metadata": {},
   "outputs": [
    {
     "data": {
      "text/html": [
       "<div><i>Table length=695</i>\n",
       "<table id=\"table140399282567296\" class=\"table-striped table-bordered table-condensed\">\n",
       "<thead><tr><th>ra</th><th>dec</th><th>j_m</th><th>j_msigcom</th><th>h_m</th><th>h_msigcom</th><th>k_m</th><th>k_msigcom</th><th>ph_qual</th><th>cc_flg</th></tr></thead>\n",
       "<thead><tr><th>deg</th><th>deg</th><th>mag</th><th>mag</th><th>mag</th><th>mag</th><th>mag</th><th>mag</th><th></th><th></th></tr></thead>\n",
       "<thead><tr><th>float64</th><th>float64</th><th>float32</th><th>float32</th><th>float32</th><th>float32</th><th>float32</th><th>float32</th><th>object</th><th>object</th></tr></thead>\n",
       "<tr><td>202.900750</td><td>46.961285</td><td>16.168</td><td>0.096</td><td>15.581</td><td>0.137</td><td>15.180</td><td>0.158</td><td>ABC</td><td>000</td></tr>\n",
       "<tr><td>202.951614</td><td>47.024986</td><td>15.773</td><td>0.072</td><td>15.436</td><td>0.111</td><td>15.541</td><td>0.234</td><td>ABD</td><td>000</td></tr>\n",
       "<tr><td>202.922589</td><td>47.024452</td><td>14.628</td><td>0.032</td><td>14.188</td><td>0.047</td><td>14.036</td><td>0.059</td><td>AAA</td><td>000</td></tr>\n",
       "<tr><td>202.911833</td><td>47.011093</td><td>13.948</td><td>0.025</td><td>13.412</td><td>0.030</td><td>13.318</td><td>0.036</td><td>AAA</td><td>000</td></tr>\n",
       "<tr><td>202.925932</td><td>47.004223</td><td>16.461</td><td>0.131</td><td>15.970</td><td>0.195</td><td>17.007</td><td>--</td><td>BCU</td><td>000</td></tr>\n",
       "<tr><td>202.515450</td><td>46.929302</td><td>15.967</td><td>0.088</td><td>15.285</td><td>0.103</td><td>15.077</td><td>0.140</td><td>AAB</td><td>000</td></tr>\n",
       "<tr><td>202.532240</td><td>46.931587</td><td>16.575</td><td>0.145</td><td>16.251</td><td>0.236</td><td>15.888</td><td>--</td><td>BDU</td><td>000</td></tr>\n",
       "<tr><td>202.607930</td><td>46.932255</td><td>16.658</td><td>0.147</td><td>15.854</td><td>--</td><td>15.430</td><td>0.193</td><td>BUC</td><td>000</td></tr>\n",
       "<tr><td>202.823902</td><td>47.011593</td><td>16.555</td><td>0.143</td><td>15.710</td><td>0.153</td><td>16.136</td><td>--</td><td>BBU</td><td>000</td></tr>\n",
       "<tr><td>...</td><td>...</td><td>...</td><td>...</td><td>...</td><td>...</td><td>...</td><td>...</td><td>...</td><td>...</td></tr>\n",
       "<tr><td>202.073558</td><td>47.473503</td><td>16.402</td><td>0.142</td><td>15.967</td><td>0.207</td><td>15.465</td><td>0.230</td><td>BCD</td><td>000</td></tr>\n",
       "<tr><td>202.057425</td><td>47.489326</td><td>15.682</td><td>0.080</td><td>15.308</td><td>0.120</td><td>15.233</td><td>0.194</td><td>ABC</td><td>000</td></tr>\n",
       "<tr><td>202.011931</td><td>47.468540</td><td>15.544</td><td>0.068</td><td>15.104</td><td>0.097</td><td>14.927</td><td>0.143</td><td>AAB</td><td>000</td></tr>\n",
       "<tr><td>201.971808</td><td>47.342934</td><td>16.579</td><td>0.166</td><td>15.714</td><td>0.163</td><td>14.849</td><td>--</td><td>CCU</td><td>000</td></tr>\n",
       "<tr><td>201.953797</td><td>47.295887</td><td>18.527</td><td>--</td><td>15.519</td><td>0.144</td><td>16.888</td><td>--</td><td>UBU</td><td>000</td></tr>\n",
       "<tr><td>201.950370</td><td>47.356930</td><td>9.751</td><td>0.019</td><td>9.509</td><td>0.016</td><td>9.468</td><td>0.018</td><td>AAA</td><td>000</td></tr>\n",
       "<tr><td>201.917430</td><td>47.284973</td><td>16.939</td><td>0.157</td><td>15.989</td><td>0.155</td><td>15.891</td><td>0.220</td><td>CBD</td><td>000</td></tr>\n",
       "<tr><td>201.953559</td><td>47.341888</td><td>18.496</td><td>--</td><td>15.317</td><td>0.119</td><td>16.944</td><td>--</td><td>UBU</td><td>000</td></tr>\n",
       "<tr><td>201.954000</td><td>47.318901</td><td>18.533</td><td>--</td><td>15.360</td><td>0.122</td><td>16.870</td><td>--</td><td>UBU</td><td>000</td></tr>\n",
       "<tr><td>201.916968</td><td>47.318008</td><td>15.943</td><td>0.092</td><td>15.253</td><td>0.103</td><td>14.601</td><td>0.107</td><td>AAA</td><td>000</td></tr>\n",
       "</table></div>"
      ],
      "text/plain": [
       "<Table length=695>\n",
       "    ra        dec       j_m   j_msigcom ...   k_m   k_msigcom ph_qual cc_flg\n",
       "   deg        deg       mag      mag    ...   mag      mag                  \n",
       " float64    float64   float32  float32  ... float32  float32   object object\n",
       "---------- ---------- ------- --------- ... ------- --------- ------- ------\n",
       "202.900750  46.961285  16.168     0.096 ...  15.180     0.158     ABC    000\n",
       "202.951614  47.024986  15.773     0.072 ...  15.541     0.234     ABD    000\n",
       "202.922589  47.024452  14.628     0.032 ...  14.036     0.059     AAA    000\n",
       "202.911833  47.011093  13.948     0.025 ...  13.318     0.036     AAA    000\n",
       "202.925932  47.004223  16.461     0.131 ...  17.007        --     BCU    000\n",
       "202.515450  46.929302  15.967     0.088 ...  15.077     0.140     AAB    000\n",
       "202.532240  46.931587  16.575     0.145 ...  15.888        --     BDU    000\n",
       "202.607930  46.932255  16.658     0.147 ...  15.430     0.193     BUC    000\n",
       "202.823902  47.011593  16.555     0.143 ...  16.136        --     BBU    000\n",
       "       ...        ...     ...       ... ...     ...       ...     ...    ...\n",
       "202.073558  47.473503  16.402     0.142 ...  15.465     0.230     BCD    000\n",
       "202.057425  47.489326  15.682     0.080 ...  15.233     0.194     ABC    000\n",
       "202.011931  47.468540  15.544     0.068 ...  14.927     0.143     AAB    000\n",
       "201.971808  47.342934  16.579     0.166 ...  14.849        --     CCU    000\n",
       "201.953797  47.295887  18.527        -- ...  16.888        --     UBU    000\n",
       "201.950370  47.356930   9.751     0.019 ...   9.468     0.018     AAA    000\n",
       "201.917430  47.284973  16.939     0.157 ...  15.891     0.220     CBD    000\n",
       "201.953559  47.341888  18.496        -- ...  16.944        --     UBU    000\n",
       "201.954000  47.318901  18.533        -- ...  16.870        --     UBU    000\n",
       "201.916968  47.318008  15.943     0.092 ...  14.601     0.107     AAA    000"
      ]
     },
     "execution_count": 89,
     "metadata": {},
     "output_type": "execute_result"
    }
   ],
   "source": [
    "mass_2_sample.to_table()"
   ]
  },
  {
   "cell_type": "code",
   "execution_count": 73,
   "metadata": {},
   "outputs": [
    {
     "ename": "DALServiceError",
     "evalue": "Cannot wait for job completion. Job is not active!",
     "output_type": "error",
     "traceback": [
      "\u001b[0;31m---------------------------------------------------------------------------\u001b[0m",
      "\u001b[0;31mDALServiceError\u001b[0m                           Traceback (most recent call last)",
      "\u001b[1;32m/home/vibin/MyFolder/WorkDesk/DP2/Codes/PS1_data_retrieval/trial_ipac_pyvo.ipynb Cell 4\u001b[0m in \u001b[0;36m<cell line: 2>\u001b[0;34m()\u001b[0m\n\u001b[1;32m      <a href='vscode-notebook-cell:/home/vibin/MyFolder/WorkDesk/DP2/Codes/PS1_data_retrieval/trial_ipac_pyvo.ipynb#X10sZmlsZQ%3D%3D?line=0'>1</a>\u001b[0m async_srv \u001b[39m=\u001b[39m pyvo\u001b[39m.\u001b[39mdal\u001b[39m.\u001b[39mTAPService(\u001b[39m'\u001b[39m\u001b[39mhttps://irsa.ipac.caltech.edu/TAP\u001b[39m\u001b[39m'\u001b[39m)\n\u001b[0;32m----> <a href='vscode-notebook-cell:/home/vibin/MyFolder/WorkDesk/DP2/Codes/PS1_data_retrieval/trial_ipac_pyvo.ipynb#X10sZmlsZQ%3D%3D?line=1'>2</a>\u001b[0m allwise_sample \u001b[39m=\u001b[39m async_srv\u001b[39m.\u001b[39;49mrun_async(\u001b[39m\"\"\"\u001b[39;49m\n\u001b[1;32m      <a href='vscode-notebook-cell:/home/vibin/MyFolder/WorkDesk/DP2/Codes/PS1_data_retrieval/trial_ipac_pyvo.ipynb#X10sZmlsZQ%3D%3D?line=2'>3</a>\u001b[0m \u001b[39m            SELECT  w.ra, w.dec, m.ra, m.dec\u001b[39;49m\n\u001b[1;32m      <a href='vscode-notebook-cell:/home/vibin/MyFolder/WorkDesk/DP2/Codes/PS1_data_retrieval/trial_ipac_pyvo.ipynb#X10sZmlsZQ%3D%3D?line=3'>4</a>\u001b[0m \u001b[39m            FROM allwise_p3as_psd AS w, fp_psc AS m\u001b[39;49m\n\u001b[1;32m      <a href='vscode-notebook-cell:/home/vibin/MyFolder/WorkDesk/DP2/Codes/PS1_data_retrieval/trial_ipac_pyvo.ipynb#X10sZmlsZQ%3D%3D?line=4'>5</a>\u001b[0m \u001b[39m            WHERE CONTAINS(POINT(\u001b[39;49m\u001b[39m'\u001b[39;49m\u001b[39mICRS\u001b[39;49m\u001b[39m'\u001b[39;49m\u001b[39m, w.ra, w.dec), CIRCLE(\u001b[39;49m\u001b[39m'\u001b[39;49m\u001b[39mICRS\u001b[39;49m\u001b[39m'\u001b[39;49m\u001b[39m,202.48417,47.23056,0.1))=1 AND\u001b[39;49m\n\u001b[1;32m      <a href='vscode-notebook-cell:/home/vibin/MyFolder/WorkDesk/DP2/Codes/PS1_data_retrieval/trial_ipac_pyvo.ipynb#X10sZmlsZQ%3D%3D?line=5'>6</a>\u001b[0m \u001b[39m            CONTAINS(POINT(\u001b[39;49m\u001b[39m'\u001b[39;49m\u001b[39mICRS\u001b[39;49m\u001b[39m'\u001b[39;49m\u001b[39m,ra, dec), CIRCLE(\u001b[39;49m\u001b[39m'\u001b[39;49m\u001b[39mICRS\u001b[39;49m\u001b[39m'\u001b[39;49m\u001b[39m,202.48417,47.23056,0.4))=1\u001b[39;49m\n\u001b[1;32m      <a href='vscode-notebook-cell:/home/vibin/MyFolder/WorkDesk/DP2/Codes/PS1_data_retrieval/trial_ipac_pyvo.ipynb#X10sZmlsZQ%3D%3D?line=6'>7</a>\u001b[0m \u001b[39m            \u001b[39;49m\u001b[39m\"\"\"\u001b[39;49m)\n",
      "File \u001b[0;32m~/anaconda3/envs/main/lib/python3.10/site-packages/pyvo/dal/tap.py:301\u001b[0m, in \u001b[0;36mTAPService.run_async\u001b[0;34m(self, query, language, maxrec, uploads, **keywords)\u001b[0m\n\u001b[1;32m    265\u001b[0m \u001b[39m\"\"\"\u001b[39;00m\n\u001b[1;32m    266\u001b[0m \u001b[39mruns async query and returns its result\u001b[39;00m\n\u001b[1;32m    267\u001b[0m \n\u001b[0;32m   (...)\u001b[0m\n\u001b[1;32m    297\u001b[0m \u001b[39mAsyncTAPJob\u001b[39;00m\n\u001b[1;32m    298\u001b[0m \u001b[39m\"\"\"\u001b[39;00m\n\u001b[1;32m    299\u001b[0m job \u001b[39m=\u001b[39m AsyncTAPJob\u001b[39m.\u001b[39mcreate(\n\u001b[1;32m    300\u001b[0m     \u001b[39mself\u001b[39m\u001b[39m.\u001b[39mbaseurl, query, language, maxrec, uploads, \u001b[39mself\u001b[39m\u001b[39m.\u001b[39m_session, \u001b[39m*\u001b[39m\u001b[39m*\u001b[39mkeywords)\n\u001b[0;32m--> 301\u001b[0m job \u001b[39m=\u001b[39m job\u001b[39m.\u001b[39;49mrun()\u001b[39m.\u001b[39;49mwait()\n\u001b[1;32m    302\u001b[0m job\u001b[39m.\u001b[39mraise_if_error()\n\u001b[1;32m    303\u001b[0m result \u001b[39m=\u001b[39m job\u001b[39m.\u001b[39mfetch_result()\n",
      "File \u001b[0;32m~/anaconda3/envs/main/lib/python3.10/site-packages/pyvo/dal/tap.py:919\u001b[0m, in \u001b[0;36mAsyncTAPJob.wait\u001b[0;34m(self, phases, timeout)\u001b[0m\n\u001b[1;32m    916\u001b[0m cur_phase \u001b[39m=\u001b[39m \u001b[39mself\u001b[39m\u001b[39m.\u001b[39m_job\u001b[39m.\u001b[39mphase\n\u001b[1;32m    918\u001b[0m \u001b[39mif\u001b[39;00m cur_phase \u001b[39mnot\u001b[39;00m \u001b[39min\u001b[39;00m active_phases:\n\u001b[0;32m--> 919\u001b[0m     \u001b[39mraise\u001b[39;00m DALServiceError(\n\u001b[1;32m    920\u001b[0m         \u001b[39m\"\u001b[39m\u001b[39mCannot wait for job completion. Job is not active!\u001b[39m\u001b[39m\"\u001b[39m)\n\u001b[1;32m    922\u001b[0m \u001b[39mif\u001b[39;00m cur_phase \u001b[39min\u001b[39;00m phases:\n\u001b[1;32m    923\u001b[0m     \u001b[39mbreak\u001b[39;00m\n",
      "\u001b[0;31mDALServiceError\u001b[0m: Cannot wait for job completion. Job is not active!"
     ]
    }
   ],
   "source": [
    "async_srv = pyvo.dal.TAPService('https://irsa.ipac.caltech.edu/TAP')\n",
    "allwise_sample = async_srv.run_async(\"\"\"\n",
    "            SELECT  w.ra, w.dec, m.ra, m.dec\n",
    "            FROM allwise_p3as_psd AS w, fp_psc AS m\n",
    "            WHERE CONTAINS(POINT('ICRS', w.ra, w.dec), CIRCLE('ICRS',202.48417,47.23056,0.1))=1 AND\n",
    "            CONTAINS(POINT('ICRS',m.ra, m.dec), CIRCLE('ICRS',202.48417,47.23056,0.4))=1\n",
    "            \"\"\")\n",
    "#job.run()"
   ]
  },
  {
   "cell_type": "code",
   "execution_count": 72,
   "metadata": {},
   "outputs": [
    {
     "data": {
      "text/html": [
       "<div><i>Table length=757</i>\n",
       "<table id=\"table140399382494800\" class=\"table-striped table-bordered table-condensed\">\n",
       "<thead><tr><th>ra</th><th>dec</th></tr></thead>\n",
       "<thead><tr><th>deg</th><th>deg</th></tr></thead>\n",
       "<thead><tr><th>float64</th><th>float64</th></tr></thead>\n",
       "<tr><td>202.4706382</td><td>47.3213552</td></tr>\n",
       "<tr><td>202.5544249</td><td>47.1597065</td></tr>\n",
       "<tr><td>202.4546241</td><td>47.1356500</td></tr>\n",
       "<tr><td>202.5238645</td><td>47.3097655</td></tr>\n",
       "<tr><td>202.6233414</td><td>47.2338122</td></tr>\n",
       "<tr><td>202.4877581</td><td>47.3124652</td></tr>\n",
       "<tr><td>202.4669864</td><td>47.3048703</td></tr>\n",
       "<tr><td>202.5238501</td><td>47.3212195</td></tr>\n",
       "<tr><td>202.4058806</td><td>47.2908577</td></tr>\n",
       "<tr><td>...</td><td>...</td></tr>\n",
       "<tr><td>202.5194572</td><td>47.1469922</td></tr>\n",
       "<tr><td>202.5610080</td><td>47.2043605</td></tr>\n",
       "<tr><td>202.4616383</td><td>47.3102365</td></tr>\n",
       "<tr><td>202.5228444</td><td>47.2926307</td></tr>\n",
       "<tr><td>202.5359535</td><td>47.2810806</td></tr>\n",
       "<tr><td>202.5513743</td><td>47.2545179</td></tr>\n",
       "<tr><td>202.4010067</td><td>47.2857837</td></tr>\n",
       "<tr><td>202.5316160</td><td>47.2994463</td></tr>\n",
       "<tr><td>202.4425523</td><td>47.2793569</td></tr>\n",
       "<tr><td>202.5550487</td><td>47.2520859</td></tr>\n",
       "</table></div>"
      ],
      "text/plain": [
       "<Table length=757>\n",
       "     ra         dec    \n",
       "    deg         deg    \n",
       "  float64     float64  \n",
       "----------- -----------\n",
       "202.4706382  47.3213552\n",
       "202.5544249  47.1597065\n",
       "202.4546241  47.1356500\n",
       "202.5238645  47.3097655\n",
       "202.6233414  47.2338122\n",
       "202.4877581  47.3124652\n",
       "202.4669864  47.3048703\n",
       "202.5238501  47.3212195\n",
       "202.4058806  47.2908577\n",
       "        ...         ...\n",
       "202.5194572  47.1469922\n",
       "202.5610080  47.2043605\n",
       "202.4616383  47.3102365\n",
       "202.5228444  47.2926307\n",
       "202.5359535  47.2810806\n",
       "202.5513743  47.2545179\n",
       "202.4010067  47.2857837\n",
       "202.5316160  47.2994463\n",
       "202.4425523  47.2793569\n",
       "202.5550487  47.2520859"
      ]
     },
     "execution_count": 72,
     "metadata": {},
     "output_type": "execute_result"
    }
   ],
   "source": [
    "allwise_sample.to_table()\n",
    "#job.fetch_result()"
   ]
  },
  {
   "cell_type": "code",
   "execution_count": 10,
   "metadata": {},
   "outputs": [
    {
     "ename": "DALServiceError",
     "evalue": "Cannot wait for job completion. Job is not active!",
     "output_type": "error",
     "traceback": [
      "\u001b[0;31m---------------------------------------------------------------------------\u001b[0m",
      "\u001b[0;31mDALServiceError\u001b[0m                           Traceback (most recent call last)",
      "\u001b[1;32m/home/vibin/MyFolder/WorkDesk/DP2/Codes/PS1_data_retrieval/trial_ipac_pyvo.ipynb Cell 5\u001b[0m in \u001b[0;36m<cell line: 2>\u001b[0;34m()\u001b[0m\n\u001b[1;32m      <a href='vscode-notebook-cell:/home/vibin/MyFolder/WorkDesk/DP2/Codes/PS1_data_retrieval/trial_ipac_pyvo.ipynb#W5sZmlsZQ%3D%3D?line=0'>1</a>\u001b[0m async_srv \u001b[39m=\u001b[39m pyvo\u001b[39m.\u001b[39mdal\u001b[39m.\u001b[39mTAPService(\u001b[39m'\u001b[39m\u001b[39mhttps://irsa.ipac.caltech.edu/TAP\u001b[39m\u001b[39m'\u001b[39m)\n\u001b[0;32m----> <a href='vscode-notebook-cell:/home/vibin/MyFolder/WorkDesk/DP2/Codes/PS1_data_retrieval/trial_ipac_pyvo.ipynb#W5sZmlsZQ%3D%3D?line=1'>2</a>\u001b[0m job \u001b[39m=\u001b[39m async_srv\u001b[39m.\u001b[39;49mrun_async(\u001b[39m\"\"\"\u001b[39;49m\n\u001b[1;32m      <a href='vscode-notebook-cell:/home/vibin/MyFolder/WorkDesk/DP2/Codes/PS1_data_retrieval/trial_ipac_pyvo.ipynb#W5sZmlsZQ%3D%3D?line=2'>3</a>\u001b[0m \u001b[39m            SELECT TOP 10000 m.pts_key, m.ra, m.dec, m.j_m, m.j_msigcom, m.h_m, m.h_msigcom, m.k_m,\u001b[39;49m\n\u001b[1;32m      <a href='vscode-notebook-cell:/home/vibin/MyFolder/WorkDesk/DP2/Codes/PS1_data_retrieval/trial_ipac_pyvo.ipynb#W5sZmlsZQ%3D%3D?line=3'>4</a>\u001b[0m \u001b[39m            m.k_msigcom, m.ph_qual, m.cc_flg, w.ra, w.dec, w.w1mpro, w.w2mpro,\u001b[39;49m\n\u001b[1;32m      <a href='vscode-notebook-cell:/home/vibin/MyFolder/WorkDesk/DP2/Codes/PS1_data_retrieval/trial_ipac_pyvo.ipynb#W5sZmlsZQ%3D%3D?line=4'>5</a>\u001b[0m \u001b[39m            w.w1snr, w.w2snr\u001b[39;49m\n\u001b[1;32m      <a href='vscode-notebook-cell:/home/vibin/MyFolder/WorkDesk/DP2/Codes/PS1_data_retrieval/trial_ipac_pyvo.ipynb#W5sZmlsZQ%3D%3D?line=5'>6</a>\u001b[0m \u001b[39m            FROM allwise_p3as_psd AS w,\u001b[39;49m\n\u001b[1;32m      <a href='vscode-notebook-cell:/home/vibin/MyFolder/WorkDesk/DP2/Codes/PS1_data_retrieval/trial_ipac_pyvo.ipynb#W5sZmlsZQ%3D%3D?line=6'>7</a>\u001b[0m \u001b[39m            fp_psc AS m\u001b[39;49m\n\u001b[1;32m      <a href='vscode-notebook-cell:/home/vibin/MyFolder/WorkDesk/DP2/Codes/PS1_data_retrieval/trial_ipac_pyvo.ipynb#W5sZmlsZQ%3D%3D?line=7'>8</a>\u001b[0m \u001b[39m            WHERE m.k_m - w.w2mpro >= 1.8 - 0.848 * (m.j_m - m.k_m) AND --(comment: JKW2 color cut)\u001b[39;49m\n\u001b[1;32m      <a href='vscode-notebook-cell:/home/vibin/MyFolder/WorkDesk/DP2/Codes/PS1_data_retrieval/trial_ipac_pyvo.ipynb#W5sZmlsZQ%3D%3D?line=8'>9</a>\u001b[0m \u001b[39m            m.j_m > 0 AND\u001b[39;49m\n\u001b[1;32m     <a href='vscode-notebook-cell:/home/vibin/MyFolder/WorkDesk/DP2/Codes/PS1_data_retrieval/trial_ipac_pyvo.ipynb#W5sZmlsZQ%3D%3D?line=9'>10</a>\u001b[0m \u001b[39m            w.w1snr >= 5 AND  --(comment: W1 and W2 S/N ratio > 5)\u001b[39;49m\n\u001b[1;32m     <a href='vscode-notebook-cell:/home/vibin/MyFolder/WorkDesk/DP2/Codes/PS1_data_retrieval/trial_ipac_pyvo.ipynb#W5sZmlsZQ%3D%3D?line=10'>11</a>\u001b[0m \u001b[39m            w.w2snr >= 5\u001b[39;49m\n\u001b[1;32m     <a href='vscode-notebook-cell:/home/vibin/MyFolder/WorkDesk/DP2/Codes/PS1_data_retrieval/trial_ipac_pyvo.ipynb#W5sZmlsZQ%3D%3D?line=11'>12</a>\u001b[0m \u001b[39m            \u001b[39;49m\u001b[39m\"\"\"\u001b[39;49m)\n",
      "File \u001b[0;32m~/anaconda3/envs/main/lib/python3.10/site-packages/pyvo/dal/tap.py:301\u001b[0m, in \u001b[0;36mTAPService.run_async\u001b[0;34m(self, query, language, maxrec, uploads, **keywords)\u001b[0m\n\u001b[1;32m    265\u001b[0m \u001b[39m\"\"\"\u001b[39;00m\n\u001b[1;32m    266\u001b[0m \u001b[39mruns async query and returns its result\u001b[39;00m\n\u001b[1;32m    267\u001b[0m \n\u001b[0;32m   (...)\u001b[0m\n\u001b[1;32m    297\u001b[0m \u001b[39mAsyncTAPJob\u001b[39;00m\n\u001b[1;32m    298\u001b[0m \u001b[39m\"\"\"\u001b[39;00m\n\u001b[1;32m    299\u001b[0m job \u001b[39m=\u001b[39m AsyncTAPJob\u001b[39m.\u001b[39mcreate(\n\u001b[1;32m    300\u001b[0m     \u001b[39mself\u001b[39m\u001b[39m.\u001b[39mbaseurl, query, language, maxrec, uploads, \u001b[39mself\u001b[39m\u001b[39m.\u001b[39m_session, \u001b[39m*\u001b[39m\u001b[39m*\u001b[39mkeywords)\n\u001b[0;32m--> 301\u001b[0m job \u001b[39m=\u001b[39m job\u001b[39m.\u001b[39;49mrun()\u001b[39m.\u001b[39;49mwait()\n\u001b[1;32m    302\u001b[0m job\u001b[39m.\u001b[39mraise_if_error()\n\u001b[1;32m    303\u001b[0m result \u001b[39m=\u001b[39m job\u001b[39m.\u001b[39mfetch_result()\n",
      "File \u001b[0;32m~/anaconda3/envs/main/lib/python3.10/site-packages/pyvo/dal/tap.py:919\u001b[0m, in \u001b[0;36mAsyncTAPJob.wait\u001b[0;34m(self, phases, timeout)\u001b[0m\n\u001b[1;32m    916\u001b[0m cur_phase \u001b[39m=\u001b[39m \u001b[39mself\u001b[39m\u001b[39m.\u001b[39m_job\u001b[39m.\u001b[39mphase\n\u001b[1;32m    918\u001b[0m \u001b[39mif\u001b[39;00m cur_phase \u001b[39mnot\u001b[39;00m \u001b[39min\u001b[39;00m active_phases:\n\u001b[0;32m--> 919\u001b[0m     \u001b[39mraise\u001b[39;00m DALServiceError(\n\u001b[1;32m    920\u001b[0m         \u001b[39m\"\u001b[39m\u001b[39mCannot wait for job completion. Job is not active!\u001b[39m\u001b[39m\"\u001b[39m)\n\u001b[1;32m    922\u001b[0m \u001b[39mif\u001b[39;00m cur_phase \u001b[39min\u001b[39;00m phases:\n\u001b[1;32m    923\u001b[0m     \u001b[39mbreak\u001b[39;00m\n",
      "\u001b[0;31mDALServiceError\u001b[0m: Cannot wait for job completion. Job is not active!"
     ]
    }
   ],
   "source": [
    "async_srv = pyvo.dal.TAPService('https://irsa.ipac.caltech.edu/TAP')\n",
    "job = async_srv.run_async(\"\"\"\n",
    "            SELECT TOP 10000 m.pts_key, m.ra, m.dec, m.j_m, m.j_msigcom, m.h_m, m.h_msigcom, m.k_m,\n",
    "            m.k_msigcom, m.ph_qual, m.cc_flg, w.ra, w.dec, w.w1mpro, w.w2mpro,\n",
    "            w.w1snr, w.w2snr\n",
    "            FROM allwise_p3as_psd AS w,\n",
    "            fp_psc AS m\n",
    "            WHERE m.k_m - w.w2mpro >= 1.8 - 0.848 * (m.j_m - m.k_m) AND --(comment: JKW2 color cut)\n",
    "            m.j_m > 0 AND\n",
    "            w.w1snr >= 5 AND  --(comment: W1 and W2 S/N ratio > 5)\n",
    "            w.w2snr >= 5\n",
    "            \"\"\")\n",
    "#job.run()"
   ]
  },
  {
   "cell_type": "code",
   "execution_count": null,
   "metadata": {},
   "outputs": [],
   "source": []
  },
  {
   "attachments": {},
   "cell_type": "markdown",
   "metadata": {},
   "source": [
    "#### Possible end product of the code\n",
    "\n",
    "```python\n",
    "async_srv = pyvo.dal.TAPService('https://irsa.ipac.caltech.edu/TAP')\n",
    "job = async_srv.run_async(\"\"\"\n",
    "            SELECT TOP 10000 m.pts_key, m.ra, m.dec, m.j_m, m.j_msigcom, m.h_m, m.h_msigcom, m.k_m,\n",
    "            m.k_msigcom, m.ph_qual, m.cc_flg, w.ra, w.dec, w.w1mpro, w.w2mpro,\n",
    "            w.w1snr, w.w2snr\n",
    "            FROM allwise_p3as_psd AS w\n",
    "            CROSS APPLY (SELECT * FROM dbo.fGetNearestObjEq(w.ra, w.dec, 0.066)) AS x\n",
    "            INNER JOIN fp_psc AS m on m.pts_key = x.pts.key\n",
    "            WHERE m.k_m - w.w2mpro >= 1.8 - 0.848 * (m.j_m - m.k_m) AND --(comment: JKW2 color cut)\n",
    "            m.j_m > 0 AND\n",
    "            w.w1snr >= 5 AND  --(comment: W1 and W2 S/N ratio > 5)\n",
    "            w.w2snr >= 5\n",
    "            \"\"\")\n",
    "#job.run()\n",
    "#print(job.phase)\n",
    "#tab = job.to_table()"
   ]
  },
  {
   "cell_type": "code",
   "execution_count": 96,
   "metadata": {},
   "outputs": [
    {
     "ename": "DALServiceError",
     "evalue": "Cannot wait for job completion. Job is not active!",
     "output_type": "error",
     "traceback": [
      "\u001b[0;31m---------------------------------------------------------------------------\u001b[0m",
      "\u001b[0;31mDALServiceError\u001b[0m                           Traceback (most recent call last)",
      "\u001b[1;32m/home/vibin/MyFolder/WorkDesk/DP2/Codes/PS1_data_retrieval/trial_ipac_pyvo.ipynb Cell 9\u001b[0m in \u001b[0;36m<cell line: 2>\u001b[0;34m()\u001b[0m\n\u001b[1;32m      <a href='vscode-notebook-cell:/home/vibin/MyFolder/WorkDesk/DP2/Codes/PS1_data_retrieval/trial_ipac_pyvo.ipynb#X14sZmlsZQ%3D%3D?line=0'>1</a>\u001b[0m async_srv \u001b[39m=\u001b[39m pyvo\u001b[39m.\u001b[39mdal\u001b[39m.\u001b[39mTAPService(\u001b[39m'\u001b[39m\u001b[39mhttps://irsa.ipac.caltech.edu/TAP\u001b[39m\u001b[39m'\u001b[39m)\n\u001b[0;32m----> <a href='vscode-notebook-cell:/home/vibin/MyFolder/WorkDesk/DP2/Codes/PS1_data_retrieval/trial_ipac_pyvo.ipynb#X14sZmlsZQ%3D%3D?line=1'>2</a>\u001b[0m allwise_sample \u001b[39m=\u001b[39m async_srv\u001b[39m.\u001b[39;49mrun_async(\u001b[39m\"\"\"\u001b[39;49m\n\u001b[1;32m      <a href='vscode-notebook-cell:/home/vibin/MyFolder/WorkDesk/DP2/Codes/PS1_data_retrieval/trial_ipac_pyvo.ipynb#X14sZmlsZQ%3D%3D?line=2'>3</a>\u001b[0m \u001b[39m            SELECT  ra, dec FROM allwise_p3as_psd\u001b[39;49m\n\u001b[1;32m      <a href='vscode-notebook-cell:/home/vibin/MyFolder/WorkDesk/DP2/Codes/PS1_data_retrieval/trial_ipac_pyvo.ipynb#X14sZmlsZQ%3D%3D?line=3'>4</a>\u001b[0m \u001b[39m            WHERE CONTAINS(POINT(\u001b[39;49m\u001b[39m'\u001b[39;49m\u001b[39mICRS\u001b[39;49m\u001b[39m'\u001b[39;49m\u001b[39m, ra, dec), CIRCLE(\u001b[39;49m\u001b[39m'\u001b[39;49m\u001b[39mICRS\u001b[39;49m\u001b[39m'\u001b[39;49m\u001b[39m,202.48417,47.23056, 0.05))=1\u001b[39;49m\n\u001b[1;32m      <a href='vscode-notebook-cell:/home/vibin/MyFolder/WorkDesk/DP2/Codes/PS1_data_retrieval/trial_ipac_pyvo.ipynb#X14sZmlsZQ%3D%3D?line=4'>5</a>\u001b[0m \u001b[39m            UNION ALL\u001b[39;49m\n\u001b[1;32m      <a href='vscode-notebook-cell:/home/vibin/MyFolder/WorkDesk/DP2/Codes/PS1_data_retrieval/trial_ipac_pyvo.ipynb#X14sZmlsZQ%3D%3D?line=5'>6</a>\u001b[0m \u001b[39m            SELECT ra, dec FROM fp_psc\u001b[39;49m\n\u001b[1;32m      <a href='vscode-notebook-cell:/home/vibin/MyFolder/WorkDesk/DP2/Codes/PS1_data_retrieval/trial_ipac_pyvo.ipynb#X14sZmlsZQ%3D%3D?line=6'>7</a>\u001b[0m \u001b[39m            WHERE CONTAINS(POINT(\u001b[39;49m\u001b[39m'\u001b[39;49m\u001b[39mICRS\u001b[39;49m\u001b[39m'\u001b[39;49m\u001b[39m, ra, dec), CIRCLE(\u001b[39;49m\u001b[39m'\u001b[39;49m\u001b[39mICRS\u001b[39;49m\u001b[39m'\u001b[39;49m\u001b[39m, 202.48417, 47.23056, 0.05))=1\u001b[39;49m\n\u001b[1;32m      <a href='vscode-notebook-cell:/home/vibin/MyFolder/WorkDesk/DP2/Codes/PS1_data_retrieval/trial_ipac_pyvo.ipynb#X14sZmlsZQ%3D%3D?line=7'>8</a>\u001b[0m \u001b[39m            \u001b[39;49m\u001b[39m\"\"\"\u001b[39;49m)\n",
      "File \u001b[0;32m~/anaconda3/envs/main/lib/python3.10/site-packages/pyvo/dal/tap.py:301\u001b[0m, in \u001b[0;36mTAPService.run_async\u001b[0;34m(self, query, language, maxrec, uploads, **keywords)\u001b[0m\n\u001b[1;32m    265\u001b[0m \u001b[39m\"\"\"\u001b[39;00m\n\u001b[1;32m    266\u001b[0m \u001b[39mruns async query and returns its result\u001b[39;00m\n\u001b[1;32m    267\u001b[0m \n\u001b[0;32m   (...)\u001b[0m\n\u001b[1;32m    297\u001b[0m \u001b[39mAsyncTAPJob\u001b[39;00m\n\u001b[1;32m    298\u001b[0m \u001b[39m\"\"\"\u001b[39;00m\n\u001b[1;32m    299\u001b[0m job \u001b[39m=\u001b[39m AsyncTAPJob\u001b[39m.\u001b[39mcreate(\n\u001b[1;32m    300\u001b[0m     \u001b[39mself\u001b[39m\u001b[39m.\u001b[39mbaseurl, query, language, maxrec, uploads, \u001b[39mself\u001b[39m\u001b[39m.\u001b[39m_session, \u001b[39m*\u001b[39m\u001b[39m*\u001b[39mkeywords)\n\u001b[0;32m--> 301\u001b[0m job \u001b[39m=\u001b[39m job\u001b[39m.\u001b[39;49mrun()\u001b[39m.\u001b[39;49mwait()\n\u001b[1;32m    302\u001b[0m job\u001b[39m.\u001b[39mraise_if_error()\n\u001b[1;32m    303\u001b[0m result \u001b[39m=\u001b[39m job\u001b[39m.\u001b[39mfetch_result()\n",
      "File \u001b[0;32m~/anaconda3/envs/main/lib/python3.10/site-packages/pyvo/dal/tap.py:919\u001b[0m, in \u001b[0;36mAsyncTAPJob.wait\u001b[0;34m(self, phases, timeout)\u001b[0m\n\u001b[1;32m    916\u001b[0m cur_phase \u001b[39m=\u001b[39m \u001b[39mself\u001b[39m\u001b[39m.\u001b[39m_job\u001b[39m.\u001b[39mphase\n\u001b[1;32m    918\u001b[0m \u001b[39mif\u001b[39;00m cur_phase \u001b[39mnot\u001b[39;00m \u001b[39min\u001b[39;00m active_phases:\n\u001b[0;32m--> 919\u001b[0m     \u001b[39mraise\u001b[39;00m DALServiceError(\n\u001b[1;32m    920\u001b[0m         \u001b[39m\"\u001b[39m\u001b[39mCannot wait for job completion. Job is not active!\u001b[39m\u001b[39m\"\u001b[39m)\n\u001b[1;32m    922\u001b[0m \u001b[39mif\u001b[39;00m cur_phase \u001b[39min\u001b[39;00m phases:\n\u001b[1;32m    923\u001b[0m     \u001b[39mbreak\u001b[39;00m\n",
      "\u001b[0;31mDALServiceError\u001b[0m: Cannot wait for job completion. Job is not active!"
     ]
    }
   ],
   "source": [
    "async_srv = pyvo.dal.TAPService('https://irsa.ipac.caltech.edu/TAP')\n",
    "allwise_sample = async_srv.run_async(\"\"\"\n",
    "            SELECT  ra, dec FROM allwise_p3as_psd\n",
    "            WHERE CONTAINS(POINT('ICRS', ra, dec), CIRCLE('ICRS',202.48417,47.23056, 0.05))=1\n",
    "            UNION ALL\n",
    "            SELECT ra, dec FROM fp_psc\n",
    "            WHERE CONTAINS(POINT('ICRS', ra, dec), CIRCLE('ICRS', 202.48417, 47.23056, 0.05))=1\n",
    "            \"\"\")\n",
    "#allwise_sample.run()"
   ]
  },
  {
   "cell_type": "code",
   "execution_count": 94,
   "metadata": {},
   "outputs": [
    {
     "data": {
      "text/html": [
       "<div><i>Table length=134</i>\n",
       "<table id=\"table140399282568016\" class=\"table-striped table-bordered table-condensed\">\n",
       "<thead><tr><th>ra</th><th>dec</th></tr></thead>\n",
       "<thead><tr><th>deg</th><th>deg</th></tr></thead>\n",
       "<thead><tr><th>float64</th><th>float64</th></tr></thead>\n",
       "<tr><td>202.5200113</td><td>47.2171496</td></tr>\n",
       "<tr><td>202.4712600</td><td>47.2299357</td></tr>\n",
       "<tr><td>202.4640701</td><td>47.2767995</td></tr>\n",
       "<tr><td>202.4455931</td><td>47.2585766</td></tr>\n",
       "<tr><td>202.5054408</td><td>47.2285282</td></tr>\n",
       "<tr><td>202.4334361</td><td>47.2192841</td></tr>\n",
       "<tr><td>202.4379914</td><td>47.2615984</td></tr>\n",
       "<tr><td>202.5442330</td><td>47.2059442</td></tr>\n",
       "<tr><td>202.5416702</td><td>47.2389563</td></tr>\n",
       "<tr><td>...</td><td>...</td></tr>\n",
       "<tr><td>202.4380600</td><td>47.1992800</td></tr>\n",
       "<tr><td>202.5060237</td><td>47.2143823</td></tr>\n",
       "<tr><td>202.5467326</td><td>47.2341360</td></tr>\n",
       "<tr><td>202.4185538</td><td>47.2445560</td></tr>\n",
       "<tr><td>202.4921554</td><td>47.1830667</td></tr>\n",
       "<tr><td>202.5237764</td><td>47.2609114</td></tr>\n",
       "<tr><td>202.4954559</td><td>47.2014704</td></tr>\n",
       "<tr><td>202.4695050</td><td>47.2230548</td></tr>\n",
       "<tr><td>202.4874371</td><td>47.2295832</td></tr>\n",
       "<tr><td>202.4386044</td><td>47.2587288</td></tr>\n",
       "</table></div>"
      ],
      "text/plain": [
       "<Table length=134>\n",
       "     ra         dec    \n",
       "    deg         deg    \n",
       "  float64     float64  \n",
       "----------- -----------\n",
       "202.5200113  47.2171496\n",
       "202.4712600  47.2299357\n",
       "202.4640701  47.2767995\n",
       "202.4455931  47.2585766\n",
       "202.5054408  47.2285282\n",
       "202.4334361  47.2192841\n",
       "202.4379914  47.2615984\n",
       "202.5442330  47.2059442\n",
       "202.5416702  47.2389563\n",
       "        ...         ...\n",
       "202.4380600  47.1992800\n",
       "202.5060237  47.2143823\n",
       "202.5467326  47.2341360\n",
       "202.4185538  47.2445560\n",
       "202.4921554  47.1830667\n",
       "202.5237764  47.2609114\n",
       "202.4954559  47.2014704\n",
       "202.4695050  47.2230548\n",
       "202.4874371  47.2295832\n",
       "202.4386044  47.2587288"
      ]
     },
     "execution_count": 94,
     "metadata": {},
     "output_type": "execute_result"
    }
   ],
   "source": [
    "allwise_sample.to_table()"
   ]
  },
  {
   "cell_type": "code",
   "execution_count": 88,
   "metadata": {},
   "outputs": [
    {
     "ename": "DALServiceError",
     "evalue": "Cannot wait for job completion. Job is not active!",
     "output_type": "error",
     "traceback": [
      "\u001b[0;31m---------------------------------------------------------------------------\u001b[0m",
      "\u001b[0;31mDALServiceError\u001b[0m                           Traceback (most recent call last)",
      "\u001b[1;32m/home/vibin/MyFolder/WorkDesk/DP2/Codes/PS1_data_retrieval/trial_ipac_pyvo.ipynb Cell 11\u001b[0m in \u001b[0;36m<cell line: 2>\u001b[0;34m()\u001b[0m\n\u001b[1;32m      <a href='vscode-notebook-cell:/home/vibin/MyFolder/WorkDesk/DP2/Codes/PS1_data_retrieval/trial_ipac_pyvo.ipynb#X16sZmlsZQ%3D%3D?line=0'>1</a>\u001b[0m async_srv \u001b[39m=\u001b[39m pyvo\u001b[39m.\u001b[39mdal\u001b[39m.\u001b[39mTAPService(\u001b[39m'\u001b[39m\u001b[39mhttps://irsa.ipac.caltech.edu/TAP\u001b[39m\u001b[39m'\u001b[39m)\n\u001b[0;32m----> <a href='vscode-notebook-cell:/home/vibin/MyFolder/WorkDesk/DP2/Codes/PS1_data_retrieval/trial_ipac_pyvo.ipynb#X16sZmlsZQ%3D%3D?line=1'>2</a>\u001b[0m data_type_name \u001b[39m=\u001b[39m async_srv\u001b[39m.\u001b[39;49mrun_async(\u001b[39m\"\"\"\u001b[39;49m\n\u001b[1;32m      <a href='vscode-notebook-cell:/home/vibin/MyFolder/WorkDesk/DP2/Codes/PS1_data_retrieval/trial_ipac_pyvo.ipynb#X16sZmlsZQ%3D%3D?line=2'>3</a>\u001b[0m \u001b[39m            SELECT DATA_TYPE \u001b[39;49m\n\u001b[1;32m      <a href='vscode-notebook-cell:/home/vibin/MyFolder/WorkDesk/DP2/Codes/PS1_data_retrieval/trial_ipac_pyvo.ipynb#X16sZmlsZQ%3D%3D?line=3'>4</a>\u001b[0m \u001b[39m            FROM INFORMATION_SCHEMA.COLUMNS\u001b[39;49m\n\u001b[1;32m      <a href='vscode-notebook-cell:/home/vibin/MyFolder/WorkDesk/DP2/Codes/PS1_data_retrieval/trial_ipac_pyvo.ipynb#X16sZmlsZQ%3D%3D?line=4'>5</a>\u001b[0m \u001b[39m            WHERE \u001b[39;49m\n\u001b[1;32m      <a href='vscode-notebook-cell:/home/vibin/MyFolder/WorkDesk/DP2/Codes/PS1_data_retrieval/trial_ipac_pyvo.ipynb#X16sZmlsZQ%3D%3D?line=5'>6</a>\u001b[0m \u001b[39m                TABLE_NAME   = \u001b[39;49m\u001b[39m'\u001b[39;49m\u001b[39mfp_psd\u001b[39;49m\u001b[39m'\u001b[39;49m\u001b[39m   \u001b[39;49m\n\u001b[1;32m      <a href='vscode-notebook-cell:/home/vibin/MyFolder/WorkDesk/DP2/Codes/PS1_data_retrieval/trial_ipac_pyvo.ipynb#X16sZmlsZQ%3D%3D?line=6'>7</a>\u001b[0m \u001b[39m                \u001b[39;49m\u001b[39m\"\"\"\u001b[39;49m)\n",
      "File \u001b[0;32m~/anaconda3/envs/main/lib/python3.10/site-packages/pyvo/dal/tap.py:301\u001b[0m, in \u001b[0;36mTAPService.run_async\u001b[0;34m(self, query, language, maxrec, uploads, **keywords)\u001b[0m\n\u001b[1;32m    265\u001b[0m \u001b[39m\"\"\"\u001b[39;00m\n\u001b[1;32m    266\u001b[0m \u001b[39mruns async query and returns its result\u001b[39;00m\n\u001b[1;32m    267\u001b[0m \n\u001b[0;32m   (...)\u001b[0m\n\u001b[1;32m    297\u001b[0m \u001b[39mAsyncTAPJob\u001b[39;00m\n\u001b[1;32m    298\u001b[0m \u001b[39m\"\"\"\u001b[39;00m\n\u001b[1;32m    299\u001b[0m job \u001b[39m=\u001b[39m AsyncTAPJob\u001b[39m.\u001b[39mcreate(\n\u001b[1;32m    300\u001b[0m     \u001b[39mself\u001b[39m\u001b[39m.\u001b[39mbaseurl, query, language, maxrec, uploads, \u001b[39mself\u001b[39m\u001b[39m.\u001b[39m_session, \u001b[39m*\u001b[39m\u001b[39m*\u001b[39mkeywords)\n\u001b[0;32m--> 301\u001b[0m job \u001b[39m=\u001b[39m job\u001b[39m.\u001b[39;49mrun()\u001b[39m.\u001b[39;49mwait()\n\u001b[1;32m    302\u001b[0m job\u001b[39m.\u001b[39mraise_if_error()\n\u001b[1;32m    303\u001b[0m result \u001b[39m=\u001b[39m job\u001b[39m.\u001b[39mfetch_result()\n",
      "File \u001b[0;32m~/anaconda3/envs/main/lib/python3.10/site-packages/pyvo/dal/tap.py:919\u001b[0m, in \u001b[0;36mAsyncTAPJob.wait\u001b[0;34m(self, phases, timeout)\u001b[0m\n\u001b[1;32m    916\u001b[0m cur_phase \u001b[39m=\u001b[39m \u001b[39mself\u001b[39m\u001b[39m.\u001b[39m_job\u001b[39m.\u001b[39mphase\n\u001b[1;32m    918\u001b[0m \u001b[39mif\u001b[39;00m cur_phase \u001b[39mnot\u001b[39;00m \u001b[39min\u001b[39;00m active_phases:\n\u001b[0;32m--> 919\u001b[0m     \u001b[39mraise\u001b[39;00m DALServiceError(\n\u001b[1;32m    920\u001b[0m         \u001b[39m\"\u001b[39m\u001b[39mCannot wait for job completion. Job is not active!\u001b[39m\u001b[39m\"\u001b[39m)\n\u001b[1;32m    922\u001b[0m \u001b[39mif\u001b[39;00m cur_phase \u001b[39min\u001b[39;00m phases:\n\u001b[1;32m    923\u001b[0m     \u001b[39mbreak\u001b[39;00m\n",
      "\u001b[0;31mDALServiceError\u001b[0m: Cannot wait for job completion. Job is not active!"
     ]
    }
   ],
   "source": [
    "async_srv = pyvo.dal.TAPService('https://irsa.ipac.caltech.edu/TAP')\n",
    "data_type_name = async_srv.run_async(\"\"\"\n",
    "            SELECT DATA_TYPE \n",
    "            FROM INFORMATION_SCHEMA.COLUMNS\n",
    "            WHERE \n",
    "                TABLE_NAME   = 'fp_psd'   \n",
    "                \"\"\")"
   ]
  }
 ],
 "metadata": {
  "kernelspec": {
   "display_name": "main",
   "language": "python",
   "name": "python3"
  },
  "language_info": {
   "codemirror_mode": {
    "name": "ipython",
    "version": 3
   },
   "file_extension": ".py",
   "mimetype": "text/x-python",
   "name": "python",
   "nbconvert_exporter": "python",
   "pygments_lexer": "ipython3",
   "version": "3.10.6"
  },
  "orig_nbformat": 4,
  "vscode": {
   "interpreter": {
    "hash": "8914ce9628fbea91b34e5016dfc2aedf214bff227002e1c6d002873058a00c3a"
   }
  }
 },
 "nbformat": 4,
 "nbformat_minor": 2
}
