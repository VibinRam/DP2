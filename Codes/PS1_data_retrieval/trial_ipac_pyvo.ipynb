{
 "cells": [
  {
   "cell_type": "code",
   "execution_count": 55,
   "metadata": {},
   "outputs": [],
   "source": [
    "import numpy as np\n",
    "import pandas as pd\n",
    "import pyvo\n",
    "from astropy.io import ascii\n",
    "from astropy.table import Table"
   ]
  },
  {
   "cell_type": "code",
   "execution_count": 34,
   "metadata": {},
   "outputs": [
    {
     "data": {
      "text/plain": [
       "<pyvo.dal.tap.AsyncTAPJob at 0x7fb464eb9690>"
      ]
     },
     "execution_count": 34,
     "metadata": {},
     "output_type": "execute_result"
    }
   ],
   "source": [
    "service = pyvo.dal.TAPService('https://irsa.ipac.caltech.edu/TAP')\n",
    "wise_2mass_jkw2_colorcut = service.submit_job(\"\"\"\n",
    "            SELECT ra, dec, j_m_2mass, k_m_2mass, w1mpro, w2mpro, w1snr, w2snr\n",
    "            FROM allwise_p3as_psd\n",
    "            WHERE k_m_2mass - w2mpro >= 1.8 - 0.848 * (j_m_2mass - k_m_2mass) AND\n",
    "            j_m_2mass > 0 AND\n",
    "            w1snr >= 5 AND\n",
    "            w2snr >= 5\n",
    "    \"\"\")\n",
    "\n",
    "wise_2mass_jkw2_colorcut.run()"
   ]
  },
  {
   "cell_type": "code",
   "execution_count": 45,
   "metadata": {},
   "outputs": [
    {
     "name": "stdout",
     "output_type": "stream",
     "text": [
      "<class 'pyvo.dal.tap.AsyncTAPJob'>\n"
     ]
    }
   ],
   "source": [
    "print(type(wise_2mass_jkw2_colorcut))"
   ]
  },
  {
   "cell_type": "code",
   "execution_count": 48,
   "metadata": {},
   "outputs": [],
   "source": [
    "table = wise_2mass_jkw2_colorcut.fetch_result()"
   ]
  },
  {
   "cell_type": "code",
   "execution_count": 58,
   "metadata": {},
   "outputs": [
    {
     "name": "stdout",
     "output_type": "stream",
     "text": [
      "<class 'astropy.io.votable.tree.VOTableFile'>\n"
     ]
    }
   ],
   "source": [
    "table_vo = table.votable\n",
    "table_vo.to_xml('wise_2mass_jkw2_colorcut.xml')"
   ]
  }
 ],
 "metadata": {
  "kernelspec": {
   "display_name": "dp2",
   "language": "python",
   "name": "python3"
  },
  "language_info": {
   "codemirror_mode": {
    "name": "ipython",
    "version": 3
   },
   "file_extension": ".py",
   "mimetype": "text/x-python",
   "name": "python",
   "nbconvert_exporter": "python",
   "pygments_lexer": "ipython3",
   "version": "3.10.9"
  },
  "orig_nbformat": 4,
  "vscode": {
   "interpreter": {
    "hash": "9c3c361d31894baec14cc4154ec8f109e798b099b420b9603ead54921343b99b"
   }
  }
 },
 "nbformat": 4,
 "nbformat_minor": 2
}
