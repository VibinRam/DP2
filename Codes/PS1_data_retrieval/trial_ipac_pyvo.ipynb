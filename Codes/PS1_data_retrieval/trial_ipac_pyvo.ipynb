{
 "cells": [
  {
   "cell_type": "code",
   "execution_count": 1,
   "metadata": {},
   "outputs": [],
   "source": [
    "import numpy as np\n",
    "import pyvo"
   ]
  },
  {
   "cell_type": "code",
   "execution_count": 31,
   "metadata": {},
   "outputs": [],
   "source": [
    "service = pyvo.dal.TAPService('https://irsa.ipac.caltech.edu/TAP')\n",
    "result = service.run_async(\"\"\"\n",
    "           SELECT ra,dec,j_m,j_msigcom,h_m,h_msigcom,k_m,k_msigcom,ph_qual,cc_flg\n",
    "           FROM fp_psc\n",
    "           WHERE CONTAINS(POINT('ICRS',ra, dec), CIRCLE('ICRS',202.48417,47.23056,0.4))=1\n",
    "    \"\"\")\n",
    "\n",
    "# Wait for 23s."
   ]
  },
  {
   "cell_type": "code",
   "execution_count": 16,
   "metadata": {},
   "outputs": [
    {
     "name": "stdout",
     "output_type": "stream",
     "text": [
      "    ra        dec      j_m   j_msigcom ...  k_m   k_msigcom ph_qual cc_flg\n",
      "   deg        deg      mag      mag    ...  mag      mag                  \n",
      "---------- ---------- ------ --------- ... ------ --------- ------- ------\n",
      "202.900750  46.961285 16.168     0.096 ... 15.180     0.158     ABC    000\n",
      "202.951614  47.024986 15.773     0.072 ... 15.541     0.234     ABD    000\n",
      "202.922589  47.024452 14.628     0.032 ... 14.036     0.059     AAA    000\n",
      "202.911833  47.011093 13.948     0.025 ... 13.318     0.036     AAA    000\n",
      "202.925932  47.004223 16.461     0.131 ... 17.007        --     BCU    000\n",
      "202.515450  46.929302 15.967     0.088 ... 15.077     0.140     AAB    000\n",
      "202.532240  46.931587 16.575     0.145 ... 15.888        --     BDU    000\n",
      "202.607930  46.932255 16.658     0.147 ... 15.430     0.193     BUC    000\n",
      "202.823902  47.011593 16.555     0.143 ... 16.136        --     BBU    000\n",
      "202.809023  46.964558 15.874     0.081 ... 15.322     0.188     AAC    000\n",
      "       ...        ...    ...       ... ...    ...       ...     ...    ...\n",
      "202.073558  47.473503 16.402     0.142 ... 15.465     0.230     BCD    000\n",
      "202.057425  47.489326 15.682     0.080 ... 15.233     0.194     ABC    000\n",
      "202.011931  47.468540 15.544     0.068 ... 14.927     0.143     AAB    000\n",
      "201.971808  47.342934 16.579     0.166 ... 14.849        --     CCU    000\n",
      "201.953797  47.295887 18.527        -- ... 16.888        --     UBU    000\n",
      "201.950370  47.356930  9.751     0.019 ...  9.468     0.018     AAA    000\n",
      "201.917430  47.284973 16.939     0.157 ... 15.891     0.220     CBD    000\n",
      "201.953559  47.341888 18.496        -- ... 16.944        --     UBU    000\n",
      "201.954000  47.318901 18.533        -- ... 16.870        --     UBU    000\n",
      "201.916968  47.318008 15.943     0.092 ... 14.601     0.107     AAA    000\n",
      "Length = 695 rows\n"
     ]
    }
   ],
   "source": [
    "tab = result.to_table()\n",
    "print(tab)"
   ]
  },
  {
   "cell_type": "code",
   "execution_count": 38,
   "metadata": {},
   "outputs": [
    {
     "data": {
      "text/plain": [
       "<pyvo.dal.tap.AsyncTAPJob at 0x7fb14764f760>"
      ]
     },
     "execution_count": 38,
     "metadata": {},
     "output_type": "execute_result"
    }
   ],
   "source": [
    "async_srv = pyvo.dal.TAPService('https://irsa.ipac.caltech.edu/TAP')\n",
    "job = async_srv.submit_job(\"\"\"\n",
    "            SELECT m.cntr, m.ra, m.dec, m.j_m, m.k_m, w.ra, w.dec\n",
    "            FROM fp_psc AS m, allwise_p3as_psd AS w\n",
    "            WHERE CONTAINS(POINT('ICRS', m.ra, m.dec), CIRCLE('ICRS',202.48417,47.23056,0.4))=1\n",
    "            \"\"\")\n",
    "job.run()"
   ]
  },
  {
   "cell_type": "code",
   "execution_count": 43,
   "metadata": {},
   "outputs": [
    {
     "data": {
      "text/plain": [
       "<Table length=695>\n",
       "   cntr        ra        dec       j_m     k_m  \n",
       "              deg        deg       mag     mag  \n",
       "  int64     float64    float64   float32 float32\n",
       "---------- ---------- ---------- ------- -------\n",
       "1312843203 202.900750  46.961285  16.168  15.180\n",
       "1312846041 202.951614  47.024986  15.773  15.541\n",
       "1312843291 202.922589  47.024452  14.628  14.036\n",
       "1312843272 202.911833  47.011093  13.948  13.318\n",
       "1312843265 202.925932  47.004223  16.461  17.007\n",
       "1312825176 202.515450  46.929302  15.967  15.077\n",
       "1312825178 202.532240  46.931587  16.575  15.888\n",
       "1312825179 202.607930  46.932255  16.658  15.430\n",
       "1312843274 202.823902  47.011593  16.555  16.136\n",
       "       ...        ...        ...     ...     ...\n",
       "1312791194 202.073558  47.473503  16.402  15.465\n",
       "1312791168 202.057425  47.489326  15.682  15.233\n",
       "1312791202 202.011931  47.468540  15.544  14.927\n",
       "1312791392 201.971808  47.342934  16.579  14.849\n",
       "1312791455 201.953797  47.295887  18.527  16.888\n",
       "1312791367 201.950370  47.356930   9.751   9.468\n",
       " 959116729 201.917430  47.284973  16.939  15.891\n",
       "1312791394 201.953559  47.341888  18.496  16.944\n",
       "1312791428 201.954000  47.318901  18.533  16.870\n",
       " 959116666 201.916968  47.318008  15.943  14.601"
      ]
     },
     "execution_count": 43,
     "metadata": {},
     "output_type": "execute_result"
    }
   ],
   "source": [
    "job.fetch_result()"
   ]
  },
  {
   "cell_type": "code",
   "execution_count": 10,
   "metadata": {},
   "outputs": [
    {
     "ename": "DALServiceError",
     "evalue": "Cannot wait for job completion. Job is not active!",
     "output_type": "error",
     "traceback": [
      "\u001b[0;31m---------------------------------------------------------------------------\u001b[0m",
      "\u001b[0;31mDALServiceError\u001b[0m                           Traceback (most recent call last)",
      "\u001b[1;32m/home/vibin/MyFolder/WorkDesk/DP2/Codes/PS1_data_retrieval/trial_ipac_pyvo.ipynb Cell 5\u001b[0m in \u001b[0;36m<cell line: 2>\u001b[0;34m()\u001b[0m\n\u001b[1;32m      <a href='vscode-notebook-cell:/home/vibin/MyFolder/WorkDesk/DP2/Codes/PS1_data_retrieval/trial_ipac_pyvo.ipynb#W5sZmlsZQ%3D%3D?line=0'>1</a>\u001b[0m async_srv \u001b[39m=\u001b[39m pyvo\u001b[39m.\u001b[39mdal\u001b[39m.\u001b[39mTAPService(\u001b[39m'\u001b[39m\u001b[39mhttps://irsa.ipac.caltech.edu/TAP\u001b[39m\u001b[39m'\u001b[39m)\n\u001b[0;32m----> <a href='vscode-notebook-cell:/home/vibin/MyFolder/WorkDesk/DP2/Codes/PS1_data_retrieval/trial_ipac_pyvo.ipynb#W5sZmlsZQ%3D%3D?line=1'>2</a>\u001b[0m job \u001b[39m=\u001b[39m async_srv\u001b[39m.\u001b[39;49mrun_async(\u001b[39m\"\"\"\u001b[39;49m\n\u001b[1;32m      <a href='vscode-notebook-cell:/home/vibin/MyFolder/WorkDesk/DP2/Codes/PS1_data_retrieval/trial_ipac_pyvo.ipynb#W5sZmlsZQ%3D%3D?line=2'>3</a>\u001b[0m \u001b[39m            SELECT TOP 10000 m.pts_key, m.ra, m.dec, m.j_m, m.j_msigcom, m.h_m, m.h_msigcom, m.k_m,\u001b[39;49m\n\u001b[1;32m      <a href='vscode-notebook-cell:/home/vibin/MyFolder/WorkDesk/DP2/Codes/PS1_data_retrieval/trial_ipac_pyvo.ipynb#W5sZmlsZQ%3D%3D?line=3'>4</a>\u001b[0m \u001b[39m            m.k_msigcom, m.ph_qual, m.cc_flg, w.ra, w.dec, w.w1mpro, w.w2mpro,\u001b[39;49m\n\u001b[1;32m      <a href='vscode-notebook-cell:/home/vibin/MyFolder/WorkDesk/DP2/Codes/PS1_data_retrieval/trial_ipac_pyvo.ipynb#W5sZmlsZQ%3D%3D?line=4'>5</a>\u001b[0m \u001b[39m            w.w1snr, w.w2snr\u001b[39;49m\n\u001b[1;32m      <a href='vscode-notebook-cell:/home/vibin/MyFolder/WorkDesk/DP2/Codes/PS1_data_retrieval/trial_ipac_pyvo.ipynb#W5sZmlsZQ%3D%3D?line=5'>6</a>\u001b[0m \u001b[39m            FROM allwise_p3as_psd AS w,\u001b[39;49m\n\u001b[1;32m      <a href='vscode-notebook-cell:/home/vibin/MyFolder/WorkDesk/DP2/Codes/PS1_data_retrieval/trial_ipac_pyvo.ipynb#W5sZmlsZQ%3D%3D?line=6'>7</a>\u001b[0m \u001b[39m            fp_psc AS m\u001b[39;49m\n\u001b[1;32m      <a href='vscode-notebook-cell:/home/vibin/MyFolder/WorkDesk/DP2/Codes/PS1_data_retrieval/trial_ipac_pyvo.ipynb#W5sZmlsZQ%3D%3D?line=7'>8</a>\u001b[0m \u001b[39m            WHERE m.k_m - w.w2mpro >= 1.8 - 0.848 * (m.j_m - m.k_m) AND --(comment: JKW2 color cut)\u001b[39;49m\n\u001b[1;32m      <a href='vscode-notebook-cell:/home/vibin/MyFolder/WorkDesk/DP2/Codes/PS1_data_retrieval/trial_ipac_pyvo.ipynb#W5sZmlsZQ%3D%3D?line=8'>9</a>\u001b[0m \u001b[39m            m.j_m > 0 AND\u001b[39;49m\n\u001b[1;32m     <a href='vscode-notebook-cell:/home/vibin/MyFolder/WorkDesk/DP2/Codes/PS1_data_retrieval/trial_ipac_pyvo.ipynb#W5sZmlsZQ%3D%3D?line=9'>10</a>\u001b[0m \u001b[39m            w.w1snr >= 5 AND  --(comment: W1 and W2 S/N ratio > 5)\u001b[39;49m\n\u001b[1;32m     <a href='vscode-notebook-cell:/home/vibin/MyFolder/WorkDesk/DP2/Codes/PS1_data_retrieval/trial_ipac_pyvo.ipynb#W5sZmlsZQ%3D%3D?line=10'>11</a>\u001b[0m \u001b[39m            w.w2snr >= 5\u001b[39;49m\n\u001b[1;32m     <a href='vscode-notebook-cell:/home/vibin/MyFolder/WorkDesk/DP2/Codes/PS1_data_retrieval/trial_ipac_pyvo.ipynb#W5sZmlsZQ%3D%3D?line=11'>12</a>\u001b[0m \u001b[39m            \u001b[39;49m\u001b[39m\"\"\"\u001b[39;49m)\n",
      "File \u001b[0;32m~/anaconda3/envs/main/lib/python3.10/site-packages/pyvo/dal/tap.py:301\u001b[0m, in \u001b[0;36mTAPService.run_async\u001b[0;34m(self, query, language, maxrec, uploads, **keywords)\u001b[0m\n\u001b[1;32m    265\u001b[0m \u001b[39m\"\"\"\u001b[39;00m\n\u001b[1;32m    266\u001b[0m \u001b[39mruns async query and returns its result\u001b[39;00m\n\u001b[1;32m    267\u001b[0m \n\u001b[0;32m   (...)\u001b[0m\n\u001b[1;32m    297\u001b[0m \u001b[39mAsyncTAPJob\u001b[39;00m\n\u001b[1;32m    298\u001b[0m \u001b[39m\"\"\"\u001b[39;00m\n\u001b[1;32m    299\u001b[0m job \u001b[39m=\u001b[39m AsyncTAPJob\u001b[39m.\u001b[39mcreate(\n\u001b[1;32m    300\u001b[0m     \u001b[39mself\u001b[39m\u001b[39m.\u001b[39mbaseurl, query, language, maxrec, uploads, \u001b[39mself\u001b[39m\u001b[39m.\u001b[39m_session, \u001b[39m*\u001b[39m\u001b[39m*\u001b[39mkeywords)\n\u001b[0;32m--> 301\u001b[0m job \u001b[39m=\u001b[39m job\u001b[39m.\u001b[39;49mrun()\u001b[39m.\u001b[39;49mwait()\n\u001b[1;32m    302\u001b[0m job\u001b[39m.\u001b[39mraise_if_error()\n\u001b[1;32m    303\u001b[0m result \u001b[39m=\u001b[39m job\u001b[39m.\u001b[39mfetch_result()\n",
      "File \u001b[0;32m~/anaconda3/envs/main/lib/python3.10/site-packages/pyvo/dal/tap.py:919\u001b[0m, in \u001b[0;36mAsyncTAPJob.wait\u001b[0;34m(self, phases, timeout)\u001b[0m\n\u001b[1;32m    916\u001b[0m cur_phase \u001b[39m=\u001b[39m \u001b[39mself\u001b[39m\u001b[39m.\u001b[39m_job\u001b[39m.\u001b[39mphase\n\u001b[1;32m    918\u001b[0m \u001b[39mif\u001b[39;00m cur_phase \u001b[39mnot\u001b[39;00m \u001b[39min\u001b[39;00m active_phases:\n\u001b[0;32m--> 919\u001b[0m     \u001b[39mraise\u001b[39;00m DALServiceError(\n\u001b[1;32m    920\u001b[0m         \u001b[39m\"\u001b[39m\u001b[39mCannot wait for job completion. Job is not active!\u001b[39m\u001b[39m\"\u001b[39m)\n\u001b[1;32m    922\u001b[0m \u001b[39mif\u001b[39;00m cur_phase \u001b[39min\u001b[39;00m phases:\n\u001b[1;32m    923\u001b[0m     \u001b[39mbreak\u001b[39;00m\n",
      "\u001b[0;31mDALServiceError\u001b[0m: Cannot wait for job completion. Job is not active!"
     ]
    }
   ],
   "source": [
    "async_srv = pyvo.dal.TAPService('https://irsa.ipac.caltech.edu/TAP')\n",
    "job = async_srv.run_async(\"\"\"\n",
    "            SELECT TOP 10000 m.pts_key, m.ra, m.dec, m.j_m, m.j_msigcom, m.h_m, m.h_msigcom, m.k_m,\n",
    "            m.k_msigcom, m.ph_qual, m.cc_flg, w.ra, w.dec, w.w1mpro, w.w2mpro,\n",
    "            w.w1snr, w.w2snr\n",
    "            FROM allwise_p3as_psd AS w,\n",
    "            fp_psc AS m\n",
    "            WHERE m.k_m - w.w2mpro >= 1.8 - 0.848 * (m.j_m - m.k_m) AND --(comment: JKW2 color cut)\n",
    "            m.j_m > 0 AND\n",
    "            w.w1snr >= 5 AND  --(comment: W1 and W2 S/N ratio > 5)\n",
    "            w.w2snr >= 5\n",
    "            \"\"\")\n",
    "#job.run()"
   ]
  },
  {
   "cell_type": "code",
   "execution_count": null,
   "metadata": {},
   "outputs": [],
   "source": []
  },
  {
   "attachments": {},
   "cell_type": "markdown",
   "metadata": {},
   "source": [
    "#### Possible end product of the code\n",
    "\n",
    "```python\n",
    "async_srv = pyvo.dal.TAPService('https://irsa.ipac.caltech.edu/TAP')\n",
    "job = async_srv.run_async(\"\"\"\n",
    "            SELECT TOP 10000 m.pts_key, m.ra, m.dec, m.j_m, m.j_msigcom, m.h_m, m.h_msigcom, m.k_m,\n",
    "            m.k_msigcom, m.ph_qual, m.cc_flg, w.ra, w.dec, w.w1mpro, w.w2mpro,\n",
    "            w.w1snr, w.w2snr\n",
    "            FROM allwise_p3as_psd AS w\n",
    "            CROSS APPLY (SELECT * FROM dbo.fGetNearestObjEq(w.ra, w.dec, 0.066)) AS x\n",
    "            INNER JOIN fp_psc AS m on m.pts_key = x.pts.key\n",
    "            WHERE m.k_m - w.w2mpro >= 1.8 - 0.848 * (m.j_m - m.k_m) AND --(comment: JKW2 color cut)\n",
    "            m.j_m > 0 AND\n",
    "            w.w1snr >= 5 AND  --(comment: W1 and W2 S/N ratio > 5)\n",
    "            w.w2snr >= 5\n",
    "            \"\"\")\n",
    "#job.run()\n",
    "#print(job.phase)\n",
    "#tab = job.to_table()"
   ]
  },
  {
   "cell_type": "code",
   "execution_count": 25,
   "metadata": {},
   "outputs": [
    {
     "data": {
      "text/html": [
       "<div><i>Table length=132</i>\n",
       "<table id=\"table140399387344032\" class=\"table-striped table-bordered table-condensed\">\n",
       "<thead><tr><th>ivoid</th><th>short_name</th><th>res_title</th></tr></thead>\n",
       "<thead><tr><th>object</th><th>object</th><th>object</th></tr></thead>\n",
       "<tr><td>ivo://archive.stsci.edu/hscv2tap</td><td>HSCv2 TAP</td><td>MAST STScI Hubble Source Catalog Version 2 (HSCv2) TAP service</td></tr>\n",
       "<tr><td>ivo://cds.vizier/i/280b</td><td>I/280B</td><td>All-Sky Compiled Catalogue of 2.5 million stars</td></tr>\n",
       "<tr><td>ivo://cds.vizier/i/319</td><td>I/319</td><td>XPM Catalog of positions and proper motions</td></tr>\n",
       "<tr><td>ivo://cds.vizier/ii/241</td><td>II/241</td><td>2MASS Catalog Incremental Data Release</td></tr>\n",
       "<tr><td>ivo://cds.vizier/ii/246</td><td>II/246</td><td>2MASS All-Sky Catalog of Point Sources</td></tr>\n",
       "<tr><td>ivo://cds.vizier/ii/270</td><td>II/270</td><td>TCS-CAIN: NIR Survey of the Galactic plane</td></tr>\n",
       "<tr><td>ivo://cds.vizier/ii/281</td><td>II/281</td><td>2MASS 6X Point Source Working Database / Catalog</td></tr>\n",
       "<tr><td>ivo://cds.vizier/ii/293</td><td>II/293</td><td>GLIMPSE Source Catalog (I + II + 3D)</td></tr>\n",
       "<tr><td>ivo://cds.vizier/ii/295</td><td>II/295</td><td>Spitzer IRAC survey of the galactic center</td></tr>\n",
       "<tr><td>ivo://cds.vizier/iii/246</td><td>III/246</td><td>First Byurakan Survey Late Type Stars catalog</td></tr>\n",
       "<tr><td>...</td><td>...</td><td>...</td></tr>\n",
       "<tr><td>ivo://nasa.heasarc/omc2p3cxo</td><td>OMC2P3CXO</td><td>OMC-2 and OMC-3 Chandra X-Ray Point Source Catalog</td></tr>\n",
       "<tr><td>ivo://nasa.heasarc/rassdsstar</td><td>RASSDSSTAR</td><td>ROSAT All-Sky Survey and SDSS Sample of X-Ray Emitting Stars</td></tr>\n",
       "<tr><td>ivo://nasa.heasarc/sfincspcm</td><td>SFINCSPCM</td><td>Star Formation in Nearby Clouds (SFiNCs) Probable Cluster Members Catalog</td></tr>\n",
       "<tr><td>ivo://nasa.heasarc/sfincsxray</td><td>SFINCSXRAY</td><td>Star Formation in Nearby Clouds (SFiNCs) X-Ray Source Catalog</td></tr>\n",
       "<tr><td>ivo://nasa.heasarc/swift2sxps</td><td>SWIFT2SXPS</td><td>Swift-XRT Point Source Catalog (2SXPS)</td></tr>\n",
       "<tr><td>ivo://nasa.heasarc/twomassrsc</td><td>TWOMASSRSC</td><td>2MASS Redshift Survey (2MRS) Catalog</td></tr>\n",
       "<tr><td>ivo://org.gavo.dc/2mass/res/2mass/data</td><td>twomass.data</td><td>The 2MASS point source catalog</td></tr>\n",
       "<tr><td>ivo://org.gavo.dc/2mass/res/2mass/q</td><td>twomass_q</td><td>2Mass Query</td></tr>\n",
       "<tr><td>ivo://org.gavo.dc/mwsc-e14a/q/clu</td><td>MWSC-e14a clu</td><td>MWSC Star Cluster Extension 2014a</td></tr>\n",
       "<tr><td>ivo://org.gavo.dc/tap</td><td>GAVO DC TAP</td><td>GAVO Data Center TAP service</td></tr>\n",
       "</table></div>"
      ],
      "text/plain": [
       "<Table length=132>\n",
       "                ivoid                  ...\n",
       "                object                 ...\n",
       "-------------------------------------- ...\n",
       "      ivo://archive.stsci.edu/hscv2tap ...\n",
       "               ivo://cds.vizier/i/280b ...\n",
       "                ivo://cds.vizier/i/319 ...\n",
       "               ivo://cds.vizier/ii/241 ...\n",
       "               ivo://cds.vizier/ii/246 ...\n",
       "               ivo://cds.vizier/ii/270 ...\n",
       "               ivo://cds.vizier/ii/281 ...\n",
       "               ivo://cds.vizier/ii/293 ...\n",
       "               ivo://cds.vizier/ii/295 ...\n",
       "              ivo://cds.vizier/iii/246 ...\n",
       "                                   ... ...\n",
       "          ivo://nasa.heasarc/omc2p3cxo ...\n",
       "         ivo://nasa.heasarc/rassdsstar ...\n",
       "          ivo://nasa.heasarc/sfincspcm ...\n",
       "         ivo://nasa.heasarc/sfincsxray ...\n",
       "         ivo://nasa.heasarc/swift2sxps ...\n",
       "         ivo://nasa.heasarc/twomassrsc ...\n",
       "ivo://org.gavo.dc/2mass/res/2mass/data ...\n",
       "   ivo://org.gavo.dc/2mass/res/2mass/q ...\n",
       "     ivo://org.gavo.dc/mwsc-e14a/q/clu ...\n",
       "                 ivo://org.gavo.dc/tap ..."
      ]
     },
     "execution_count": 25,
     "metadata": {},
     "output_type": "execute_result"
    }
   ],
   "source": [
    "tap_services = pyvo.regsearch(servicetype='tap', keywords=['2MASS point source'], includeaux=True)\n",
    "tap_services.to_table()['ivoid', 'short_name', 'res_title']\n"
   ]
  }
 ],
 "metadata": {
  "kernelspec": {
   "display_name": "main",
   "language": "python",
   "name": "python3"
  },
  "language_info": {
   "codemirror_mode": {
    "name": "ipython",
    "version": 3
   },
   "file_extension": ".py",
   "mimetype": "text/x-python",
   "name": "python",
   "nbconvert_exporter": "python",
   "pygments_lexer": "ipython3",
   "version": "3.10.6"
  },
  "orig_nbformat": 4,
  "vscode": {
   "interpreter": {
    "hash": "8914ce9628fbea91b34e5016dfc2aedf214bff227002e1c6d002873058a00c3a"
   }
  }
 },
 "nbformat": 4,
 "nbformat_minor": 2
}
