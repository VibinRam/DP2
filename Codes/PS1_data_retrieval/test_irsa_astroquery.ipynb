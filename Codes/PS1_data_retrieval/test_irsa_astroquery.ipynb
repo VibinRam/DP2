{
 "cells": [
  {
   "cell_type": "code",
   "execution_count": 13,
   "metadata": {},
   "outputs": [],
   "source": [
    "import numpy as np\n",
    "import matplotlib.pyplot as plt\n",
    "from astropy.coordinates import SkyCoord\n",
    "from astroquery.ipac.irsa import Irsa\n",
    "import astropy.units as u\n",
    "from MyToolkit import plot_sky_map_ps1"
   ]
  },
  {
   "cell_type": "code",
   "execution_count": 8,
   "metadata": {},
   "outputs": [],
   "source": [
    "table = Irsa.query_region(SkyCoord(187.706, 12.391, frame = 'icrs', unit = 'deg'), catalog = 'allwise_p3as_psd', radius =  10 * u.arcmin)\n",
    "ra_col, dec_col = table.columns[1], table.columns[2]\n"
   ]
  }
 ],
 "metadata": {
  "kernelspec": {
   "display_name": "dp2",
   "language": "python",
   "name": "python3"
  },
  "language_info": {
   "codemirror_mode": {
    "name": "ipython",
    "version": 3
   },
   "file_extension": ".py",
   "mimetype": "text/x-python",
   "name": "python",
   "nbconvert_exporter": "python",
   "pygments_lexer": "ipython3",
   "version": "3.10.9"
  },
  "orig_nbformat": 4,
  "vscode": {
   "interpreter": {
    "hash": "9c3c361d31894baec14cc4154ec8f109e798b099b420b9603ead54921343b99b"
   }
  }
 },
 "nbformat": 4,
 "nbformat_minor": 2
}
