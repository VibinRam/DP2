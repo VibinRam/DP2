{
 "cells": [
  {
   "cell_type": "code",
   "execution_count": null,
   "metadata": {},
   "outputs": [],
   "source": [
    "import numpy as np\n",
    "import matplotlib.pyplot as plt\n",
    "from astropy.io import ascii\n",
    "import healpy as hp\n",
    "import mastcasjobs\n",
    "from astropy import units as u\n",
    "from astropy.coordinates import SkyCoord\n",
    "from astropy.table import Table\n",
    "import pyvo\n",
    "import requests\n",
    "from MyToolkit import *\n",
    "import time\n",
    "import os"
   ]
  },
  {
   "cell_type": "code",
   "execution_count": null,
   "metadata": {},
   "outputs": [],
   "source": [
    "### Here we are attempting to obtain the PS1-ELQS effective coverage area using **healpy** (HEALpix; Gorski et al. 2005) tools"
   ]
  },
  {
   "cell_type": "code",
   "execution_count": null,
   "metadata": {},
   "outputs": [],
   "source": [
    "effective_area = healpix_sky_map_ps1_cover_area(ra_col_schind, dec_col_schind, 6)\n",
    "print(\"Effective area covered by the data is {:.3f} deg^2\".format(effective_area))"
   ]
  },
  {
   "attachments": {},
   "cell_type": "markdown",
   "metadata": {},
   "source": [
    "##### Above we included only the 592 quasars in the HEALpix estimate. Now let's add all the targets from the JKW2 color cut of PS1."
   ]
  },
  {
   "cell_type": "code",
   "execution_count": null,
   "metadata": {},
   "outputs": [],
   "source": [
    "tap_service = pyvo.dal.TAPService('https://irsa.ipac.caltech.edu/TAP')"
   ]
  },
  {
   "cell_type": "code",
   "execution_count": null,
   "metadata": {},
   "outputs": [],
   "source": [
    "wise_2mass_query = \"\"\"SELECT\n",
    "        ra, dec, j_m_2mass, k_m_2mass, w1mpro, w2mpro, w1snr, w2snr,\n",
    "        glat\n",
    "        FROM allwise_p3as_psd\n",
    "        WHERE k_m_2mass - w2mpro >= 1.8 - 0.848 * (j_m_2mass - k_m_2mass) AND\n",
    "        glat NOT BETWEEN -20 AND 20 AND\n",
    "        j_m_2mass > 0 AND\n",
    "        w1snr >= 5 AND\n",
    "        w2snr >= 5\n",
    "        \"\"\"\n",
    "\n",
    "wise_2mass_jkw2_colorcut = tap_service.submit_job(wise_2mass_query)\n",
    "wise_2mass_jkw2_colorcut.run()"
   ]
  },
  {
   "cell_type": "code",
   "execution_count": null,
   "metadata": {},
   "outputs": [],
   "source": [
    "go = 1\n",
    "i = 1\n",
    "while go == 1:\n",
    "    time.sleep(30)\n",
    "    if wise_2mass_jkw2_colorcut.phase in ('COMPLETED'):\n",
    "        result = wise_2mass_jkw2_colorcut.fetch_result()\n",
    "        table = result.to_table()\n",
    "        table.write(DP2_DIRECTORY + \"Data/wise_2mass_jkw2_colorcut_full.csv\")\n",
    "        go = 0\n",
    "    i += 1"
   ]
  },
  {
   "cell_type": "code",
   "execution_count": null,
   "metadata": {},
   "outputs": [],
   "source": [
    "go = 1\n",
    "i = 1\n",
    "while go == 1:\n",
    "    time.sleep(30)\n",
    "    print(i),\n",
    "    if wise_2mass_jkw2_colorcut.phase in ('COMPLETED'):\n",
    "        URL = wise_2mass_jkw2_colorcut.result_uri\n",
    "\n",
    "        response = requests.get(URL)\n",
    "        open(DP2_DIRECTORY + \"Data/wise_2mass_jkw2_colorcut_full.xml\", \"wb\").write(response.content)\n",
    "        go = 0\n",
    "    i += 1"
   ]
  },
  {
   "cell_type": "code",
   "execution_count": null,
   "metadata": {},
   "outputs": [],
   "source": [
    "query = \"\"\"SELECT\t\n",
    "        m.ra, m.dec,\t\n",
    "        o.ObjID as PS1_ObjID,x.ra as ps_ra,x.dec as ps_dec,\t\n",
    "        o.gMeanPSFMag, o.gMeanPSFMagErr, o.gMeanKronMag, o.gMeanApMag,\t\n",
    "        o.rMeanPSFMag, o.rMeanPSFMagErr, o.rMeanKronMag, o.rMeanApMag,\t\n",
    "        o.iMeanPSFMag, o.iMeanPSFMagErr, o.iMeanKronMag, o.iMeanApMag,\t\n",
    "        o.zMeanPSFMag, o.zMeanPSFMagErr, o.zMeanKronMag, o.zMeanApMag,\t\n",
    "        o.yMeanPSFMag, o.yMeanPSFMagErr, o.yMeanKronMag, o.yMeanApMag,\t\n",
    "        o.gMeanPSFmagNpt,o.rMeanPSFmagNpt,o.iMeanPSFmagNpt,o.zMeanPSFmagNpt,o.yMeanPSFmagNpt,\t\n",
    "        o.gFlags, o.gQfPerfect,\t\n",
    "        o.rFlags, o.rQfPerfect,\t\n",
    "        o.iFlags, o.iQfPerfect,\t\n",
    "                \n",
    "        o.zFlags, o.zQfPerfect,\t\n",
    "        o.yFlags, o.yQfPerfect,\t\n",
    "        sp.gpetRadius,sp.rpetRadius,sp.ipetRadius,sp.zpetRadius,sp.ypetRadius,\t\n",
    "        sot.iinfoFlag, sot.iinfoFlag2\t\n",
    "                \t\n",
    "        from mydb.wise_2mass_jkw2_colorcut_subsample AS m\t\n",
    "                \n",
    "        CROSS APPLY (SELECT * FROM dbo.fGetNearestObjEq(m.ra,m.dec,0.066)) AS x\t\n",
    "        JOIN MeanObject o on o.ObjID = x.ObjId\t\n",
    "                \n",
    "        LEFT JOIN StackPetrosian AS sp ON sp.objID = o.objID\t\n",
    "        LEFT JOIN StackObjectThin AS sot ON sot.objID = o.objID\t\n",
    "                \n",
    "        WHERE (o.iMeanPSFMag > 0 AND o.iMeanPSFMag <= 19.0)\t\n",
    "        AND o.zMeanPSFMag > 0\t\n",
    "        AND o.yMeanPSFMag > 0\t\n",
    "        AND o.iQfPerfect >= 0.85 and o.zQfPerfect >= 0.85\t\n",
    "\t\n",
    "        AND (-0.3 <= iMeanPSFMag - iMeanApMag OR iMeanPSFMag - iMeanApMag <= 0.3)\t\n",
    "\n",
    "        AND (sot.iinfoFlag & 0x00000008 = 0)\n",
    "        AND (sot.iinfoFlag & 0x00000010 = 0) \n",
    "        AND (sot.iinfoFlag & 0x00000020 = 0) \n",
    "        AND (sot.iinfoFlag & 0x00000080 = 0)\n",
    "        AND (sot.iinfoFlag & 0x00000100 = 0) \t\n",
    "        AND (sot.iinfoFlag & 0x00000400 = 0) \n",
    "        AND (sot.iinfoFlag & 0x00000800 = 0) \n",
    "        AND (sot.iinfoFlag & 0x00001000 = 0) \t\n",
    "        AND (sot.iinfoFlag & 0x00002000 = 0)\t\n",
    "        AND (sot.iinfoFlag & 0x00008000 = 0) \n",
    "        AND (sot.iinfoFlag & 0x00010000 = 0) \t\n",
    "        AND (sot.iinfoFlag & 0x00020000 = 0) \n",
    "        AND (sot.iinfoFlag & 0x00040000 = 0) \n",
    "        AND (sot.iinfoFlag & 0x00400000 = 0) \n",
    "        AND (sot.iinfoFlag & 0x10000000 = 0) \n",
    "        AND (sot.iinfoFlag & 0x20000000 = 0)\n",
    "        AND (sot.iinfoFlag & 0x40000000 = 0)\n",
    "        AND (sot.iinfoFlag & 0x80000000 = 0) \n",
    "        AND (sot.iinfoFlag2 & 0x00000008 = 0) \n",
    "        AND (sot.iinfoFlag2 & 0x00000010 = 0) \t\n",
    "        AND (sot.iinfoFlag2 & 0x00000020 = 0) \n",
    "        \"\"\"\n",
    "\n",
    "jobs = mastcasjobs.MastCasJobs(username = \"vibin.narayanan\", password = \"vibinps1pwd\", context = \"PanSTARRS_DR1\")\n",
    "ps1_jkw2_cut = jobs.quick(query, task_name = \"PS1 jkw2 color cut\")"
   ]
  }
 ],
 "metadata": {
  "language_info": {
   "name": "python"
  },
  "orig_nbformat": 4
 },
 "nbformat": 4,
 "nbformat_minor": 2
}
