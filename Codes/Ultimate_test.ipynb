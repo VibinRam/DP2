{
 "cells": [
  {
   "cell_type": "code",
   "execution_count": 19,
   "metadata": {},
   "outputs": [],
   "source": [
    "import numpy as np\n",
    "import numpy.ma as ma\n",
    "from astropy.coordinates import SkyCoord, Distance\n",
    "from astropy import units as u\n",
    "from astropy.cosmology import LambdaCDM as LCDM\n"
   ]
  },
  {
   "cell_type": "code",
   "execution_count": 2,
   "metadata": {},
   "outputs": [
    {
     "data": {
      "text/plain": [
       "<SkyCoord (ICRS): (ra, dec, distance) in (deg, deg, Mpc)\n",
       "    (100., 10., 84544.59641025)>"
      ]
     },
     "execution_count": 2,
     "metadata": {},
     "output_type": "execute_result"
    }
   ],
   "source": [
    "SkyCoord(100*u.deg, 10*u.deg, distance = Distance(z = 8.2))"
   ]
  },
  {
   "cell_type": "code",
   "execution_count": 4,
   "metadata": {},
   "outputs": [
    {
     "data": {
      "text/latex": [
       "$9328.6651 \\; \\mathrm{Mpc}$"
      ],
      "text/plain": [
       "<Quantity 9328.66507744 Mpc>"
      ]
     },
     "execution_count": 4,
     "metadata": {},
     "output_type": "execute_result"
    }
   ],
   "source": [
    "cosmo = LCDM(H0=71, Om0=0.26, Ode0=0.74, Ob0=0.0435)\n",
    "cosmo.comoving_distance(8.2)"
   ]
  },
  {
   "cell_type": "code",
   "execution_count": 7,
   "metadata": {},
   "outputs": [
    {
     "data": {
      "text/plain": [
       "array([6997.40995112, 8531.43460448, 9006.00341076, 9328.66507744])"
      ]
     },
     "execution_count": 7,
     "metadata": {},
     "output_type": "execute_result"
    }
   ],
   "source": [
    "z = np.array([3.5,6, 7.2, 8.2])\n",
    "np.array(cosmo.comoving_distance(z))"
   ]
  },
  {
   "cell_type": "code",
   "execution_count": 9,
   "metadata": {},
   "outputs": [],
   "source": [
    "ra = np.array([10, 100, 32])\n",
    "dec = np.array([2, 87, 23])\n",
    "z = np.array([5.2, 5.1, 5.8])\n",
    "cords = SkyCoord(ra*u.deg, dec*u.deg, cosmo.comoving_distance(z))"
   ]
  },
  {
   "cell_type": "code",
   "execution_count": 26,
   "metadata": {},
   "outputs": [
    {
     "data": {
      "text/plain": [
       "masked_array(data=[1, 2, 3, --, --, --],\n",
       "             mask=[False, False, False,  True,  True,  True],\n",
       "       fill_value=999999)"
      ]
     },
     "execution_count": 26,
     "metadata": {},
     "output_type": "execute_result"
    }
   ],
   "source": [
    "a = np.array([1,2,3,4,5,6])\n",
    "a = ma.array(a)\n",
    "pos = np.where(a > 3)\n",
    "a[pos] = ma.masked\n",
    "a"
   ]
  },
  {
   "cell_type": "code",
   "execution_count": 25,
   "metadata": {},
   "outputs": [
    {
     "data": {
      "text/plain": [
       "masked_array(data=[1, 2, 3, 0, 0, 0],\n",
       "             mask=False,\n",
       "       fill_value=999999)"
      ]
     },
     "execution_count": 25,
     "metadata": {},
     "output_type": "execute_result"
    }
   ],
   "source": [
    "ma.array(a)"
   ]
  }
 ],
 "metadata": {
  "kernelspec": {
   "display_name": "dp2",
   "language": "python",
   "name": "python3"
  },
  "language_info": {
   "codemirror_mode": {
    "name": "ipython",
    "version": 3
   },
   "file_extension": ".py",
   "mimetype": "text/x-python",
   "name": "python",
   "nbconvert_exporter": "python",
   "pygments_lexer": "ipython3",
   "version": "3.10.9"
  },
  "orig_nbformat": 4
 },
 "nbformat": 4,
 "nbformat_minor": 2
}
