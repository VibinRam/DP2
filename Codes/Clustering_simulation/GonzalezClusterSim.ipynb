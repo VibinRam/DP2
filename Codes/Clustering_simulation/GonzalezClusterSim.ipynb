{
 "cells": [
  {
   "cell_type": "code",
   "execution_count": 2,
   "metadata": {},
   "outputs": [],
   "source": [
    "import numpy as np\n",
    "import matplotlib.pyplot as plt"
   ]
  },
  {
   "cell_type": "code",
   "execution_count": 4,
   "metadata": {},
   "outputs": [
    {
     "data": {
      "text/plain": [
       "(32, 32, 32)"
      ]
     },
     "execution_count": 4,
     "metadata": {},
     "output_type": "execute_result"
    }
   ],
   "source": [
    "#Let's create a well defined box to hold the number of particles, box_p. \n",
    "side_len = 32\n",
    "N_side = 32\n",
    "\n",
    "box_p = np.zeros((N_side, N_side, N_side))\n",
    "box_p.shape"
   ]
  },
  {
   "cell_type": "code",
   "execution_count": 8,
   "metadata": {},
   "outputs": [],
   "source": [
    "#Choose the mean number of particles, n_bar\n",
    "n_bar = 5\n",
    "\n",
    "#Populate box_p with number of particles drawn from Poisson with mean n_bar.\n",
    "box_p = np.random.poisson(lam=n_bar, size=box_p.shape)"
   ]
  },
  {
   "cell_type": "code",
   "execution_count": 10,
   "metadata": {},
   "outputs": [],
   "source": [
    "#Now let's get the density contrast\n",
    "box_delx = (box_p - n_bar)/n_bar"
   ]
  },
  {
   "cell_type": "code",
   "execution_count": 42,
   "metadata": {},
   "outputs": [],
   "source": [
    "#Now let's take the fourier transform of box_delx to get box_delk\n",
    "box_delk = np.fft.fftn(box_delx, norm='ortho')\n",
    "\n",
    "#Getting the corresponding k values along 1d axis\n",
    "k_vals = np.fft.fftfreq(N_side)"
   ]
  },
  {
   "cell_type": "code",
   "execution_count": 50,
   "metadata": {},
   "outputs": [],
   "source": [
    "#Power spectrum of the Poisson field box_delx\n",
    "#First I create a 3d array of same shape as box_delk, with values equal\n",
    "#to |k| value corresponding to same position in box_delk.\n",
    "temb_mesh = np.meshgrid(k_vals, k_vals, k_vals, indexing='ij')\n",
    "modk_grid = np.sqrt(temb_mesh[0] ** 2 + temb_mesh[1] ** 2 + temb_mesh[2] ** 2)\n",
    "\n",
    "#Lets make the k's needed for the power spectrum.\n",
    "k_min = 1/N_side\n",
    "k_max = 1/2\n",
    "assert (N_side % 2 == 0)\n",
    "k_for_P = np.linspace(k_min, k_max, N_side//2)"
   ]
  },
  {
   "cell_type": "code",
   "execution_count": 70,
   "metadata": {},
   "outputs": [],
   "source": [
    "#Now let's iterate through the k_for_P and find the index of modk_grid with k\n",
    "#that falls between and find power spectrum pk.\n",
    "pk = np.zeros(len(k_for_P)-1)\n",
    "for i, (k1, k2) in enumerate(zip(k_for_P[:-1], k_for_P[1:])):\n",
    "    pk[i] = np.average(np.absolute(box_delk[np.where((modk_grid > k1) & (modk_grid < k2))]) ** 2)"
   ]
  },
  {
   "cell_type": "code",
   "execution_count": 72,
   "metadata": {},
   "outputs": [],
   "source": [
    "#Now we have to make a desired power spectrum pk_cor\n",
    "k_for_P_mid = (k_for_P[:-1] + k_for_P[1:])/2\n",
    "pk_cor = np.power(k_for_P_mid, -1.2)"
   ]
  },
  {
   "cell_type": "code",
   "execution_count": null,
   "metadata": {},
   "outputs": [],
   "source": [
    "#Make a new delk.\n",
    "box_delk_new = box_delk"
   ]
  },
  {
   "cell_type": "code",
   "execution_count": 77,
   "metadata": {},
   "outputs": [
    {
     "name": "stdout",
     "output_type": "stream",
     "text": [
      "0.03125 0.5\n"
     ]
    }
   ],
   "source": [
    "print(k_min, k_max)"
   ]
  },
  {
   "cell_type": "code",
   "execution_count": 79,
   "metadata": {},
   "outputs": [
    {
     "data": {
      "text/plain": [
       "(array([ 0,  0,  0, ..., 31, 31, 31]),\n",
       " array([ 0,  1,  2, ..., 29, 30, 31]),\n",
       " array([ 0, 16, 16, ..., 16, 16, 16]))"
      ]
     },
     "execution_count": 79,
     "metadata": {},
     "output_type": "execute_result"
    }
   ],
   "source": [
    "np.where((modk_grid < k_min) | (modk_grid > k_max))"
   ]
  }
 ],
 "metadata": {
  "kernelspec": {
   "display_name": "dp2",
   "language": "python",
   "name": "python3"
  },
  "language_info": {
   "codemirror_mode": {
    "name": "ipython",
    "version": 3
   },
   "file_extension": ".py",
   "mimetype": "text/x-python",
   "name": "python",
   "nbconvert_exporter": "python",
   "pygments_lexer": "ipython3",
   "version": "3.10.9"
  },
  "orig_nbformat": 4
 },
 "nbformat": 4,
 "nbformat_minor": 2
}
