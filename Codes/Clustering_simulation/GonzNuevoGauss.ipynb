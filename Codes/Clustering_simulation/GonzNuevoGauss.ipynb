{
 "cells": [
  {
   "cell_type": "code",
   "execution_count": 2,
   "metadata": {},
   "outputs": [],
   "source": [
    "import numpy as np\n",
    "import matplotlib.pyplot as plt\n",
    "from Corrfunc.theory.DD import DD\n",
    "import scipy.optimize as spo\n",
    "import scipy.special as sps\n",
    "import math"
   ]
  },
  {
   "cell_type": "code",
   "execution_count": 4,
   "metadata": {},
   "outputs": [],
   "source": [
    "def pow_func(r, A, alpha):\n",
    "    return A * np.power(r, -alpha)\n",
    "\n",
    "def plaw_pspec_to_2pcf(const, delta):\n",
    "    alpha = 3 - delta\n",
    "    A = const * (sps.gamma(alpha/2))/ (np.power(2, 1 - alpha/2) * sps.gamma((3 - alpha)/2))\n",
    "    return A, alpha\n",
    "\n",
    "def plaw_2pcf_to_pspec(A, alpha):\n",
    "    delta = 3 - alpha\n",
    "    const = A * (np.power(2, 1 - alpha/2) * sps.gamma((3 - alpha)/2)) / (sps.gamma(alpha/2))\n",
    "    return const, delta\n",
    "\n",
    "class clust_dist:\n",
    "    def __init__(self, N_side, dx, n_bar) -> None:\n",
    "        self.N_side = N_side\n",
    "        self.dx = dx\n",
    "        self.n_bar = n_bar\n",
    "        #dk of the fourier lattice.\n",
    "        self.dk = 2 * np.pi/(self.N_side * self.dx)\n",
    "\n",
    "        #Creating a box with N_side^3 dimension and fill it with poisson random numbers with lambda=n_bar.\n",
    "        self.box_p = np.random.poisson(lam=n_bar, size=(N_side, N_side, N_side))\n",
    "        print(\"Poisson lattice is created.\")\n",
    "        #Density contrast.\n",
    "        self.box_delx = (self.box_p - n_bar)/n_bar\n",
    "        #Now taking the fourier transform of box_delx to get box_delk\n",
    "        self.box_delk = np.fft.fftn(self.box_delx, norm='ortho')\n",
    "        temp_factor = np.power(self.dx * np.sqrt(self.N_side)/np.sqrt(2 * np.pi), 3)\n",
    "        self.box_delk = temp_factor * self.box_delk\n",
    "        #Getting the corresponding k values along 1d axis and creating a 3d grid of corresponding k value\n",
    "        #of the box_delk.\n",
    "        temp_k_vals = 2 * np.pi * np.fft.fftfreq(self.N_side, d=self.dx)\n",
    "        self.temp_k_vals =temp_k_vals\n",
    "        temb_mesh = np.meshgrid(temp_k_vals, temp_k_vals, temp_k_vals, indexing='ij')\n",
    "        self.modk_grid = np.sqrt(temb_mesh[0] ** 2 + temb_mesh[1] ** 2 + temb_mesh[2] ** 2)\n",
    "        #Finding the minimum and maximum of k values\n",
    "        self.k_min = 0\n",
    "        self.k_max = 2 * np.pi/(2 * self.dx)* np.sqrt(3)\n",
    "        #Finding the powerspectrum here.\n",
    "        self.k_intervals = np.linspace(self.k_min, self.k_max, self.N_side//2) #default k_intervals\n",
    "        self.k_intervals_mid = (self.k_intervals[:-1] + self.k_intervals[1:])/2\n",
    "        self.powerspec_pois = self.calc_powerspec_pois(self.k_intervals)\n",
    "        print(\"Poisson power spectrum calculated.\")\n",
    "    \n",
    "    def calc_powerspec_pois(self, k_intervals):\n",
    "        #Finding the powerspectrum here. Iterate through the k_for_P and find the index of modk_grid with k\n",
    "        #that falls between and find power spectrum pk.\n",
    "        powerspec = np.zeros(len(k_intervals)-1)\n",
    "        for i, (k1, k2) in enumerate(zip(k_intervals[:-1], k_intervals[1:])):\n",
    "            powerspec[i] = np.average(np.absolute(self.box_delk[np.where((self.modk_grid >= k1) & (self.modk_grid < k2))]) ** 2)\n",
    "        powerspec = powerspec/((self.N_side * self.dx)**3) * np.power(np.sqrt(2 * np.pi), 3)\n",
    "\n",
    "        return powerspec\n",
    "    \n",
    "    def update_k_intervals(self, k_intervals):\n",
    "        ##Assert that the given k_intervals have appropriate k_min and k_max\n",
    "        assert k_intervals[0] == self.k_min\n",
    "        # assert k_intervals[-1] == self.k_max\n",
    "        #updating the k_intervals\n",
    "        self.k_intervals = np.copy(k_intervals)\n",
    "        self.k_intervals_mid = (self.k_intervals[:-1] + self.k_intervals[1:])/2\n",
    "        self.powerspec_pois = self.calc_powerspec_pois(self.k_intervals)\n",
    "\n",
    "    def make_clust_dist(self, powerspec_clust, k_intervals):\n",
    "        #Making the new box_delk_clust. Right now, whenever we call this method, the previous box_delk_clust if any\n",
    "        #will be erased.\n",
    "        self.box_delk_clust = np.copy(self.box_delk)\n",
    "        #Modifying the box-delk_clust to have the input powerspectrum.\n",
    "        for i, (k1, k2) in enumerate(zip(k_intervals[:-1], k_intervals[1:])):\n",
    "            temp_ind = np.where((self.modk_grid >= k1) & (self.modk_grid < k2))\n",
    "            self.box_delk_clust[temp_ind] = self.box_delk[temp_ind] * (np.sqrt(powerspec_clust[i] + self.powerspec_pois[i])) / np.sqrt(self.powerspec_pois[i])\n",
    "        #Defining the input powerspec as the powerspec of box_delk_clust\n",
    "        self.powerspec_clust = np.copy(powerspec_clust)\n",
    "        self.update_k_intervals(k_intervals)\n",
    "        #Now we need to inverse fourier transfor box_delk_clust to get box_delx_clust\n",
    "        self.box_delx_clust = np.fft.ifftn(self.box_delk_clust, norm='ortho')\n",
    "        temp_factor = np.power(self.dk * np.sqrt(self.N_side)/np.sqrt(2 * np.pi), 3)\n",
    "        self.box_delx_clust = temp_factor * self.box_delx_clust\n",
    "        #Create the new n(x) array.\n",
    "        self.box_GN = self.n_bar * (1 + self.box_delx_clust)\n",
    "        print(\"Made the clustered distribution.\")\n",
    "\n",
    "    def make_clust_dist_from_plaw_pspec(self, const, delta, k_intervals):\n",
    "        temp_pk = const * np.power(self.k_intervals_mid, -delta)\n",
    "        self.make_clust_dist(temp_pk, k_intervals) \n",
    "\n",
    "    def calc_2pcorrfunc_clust(self, x_min, x_max):\n",
    "        assert x_min > 0\n",
    "        assert x_max > x_min\n",
    "        # assert issubclass(x_intervals_int.dtype.int, np.integer)\n",
    "        # min and max integer between given interval\n",
    "        x_min_int = math.ceil(x_min/self.dx)\n",
    "        x_max_int = math.ceil(x_max/self.dx)\n",
    "        #defining the x intervals in which we calculate the 2pcf\n",
    "        self.x_intervals_mid = np.arange(x_min_int, x_max_int) * self.dx\n",
    "        self._2pcorrfunc = np.zeros_like(self.x_intervals_mid)\n",
    "        for i, temp_x in enumerate(np.arange(x_min_int, x_max_int)):\n",
    "            self._2pcorrfunc[i] = np.sum((self.box_delx_clust[:self.N_side-temp_x,:,:]) * (self.box_delx_clust[temp_x:,:,:]))/ (self.N_side** 3)\n",
    "        print(\"2 point correlation function calculated.\")\n",
    "\n",
    "    def fit_2pcf_clust(self):\n",
    "        temp_popt, temp_pcov = spo.curve_fit(pow_func, self.x_intervals_mid, self._2pcorrfunc)\n",
    "        self._2pcf_fit_alpha = temp_popt[1]\n",
    "        self._2pcf_fit_A = temp_popt[0]\n",
    "        print(\"The measured 2pcf of box_delx_clust is fitted to a power law\")\n",
    "\n",
    "    def initialize_gauss(self, lam, sig):\n",
    "        #Creating a box with N_side^3 dimension and fill it with Gaussian random numbers with lambda=lam and sigma = sig.\n",
    "        self.box_p = np.random.normal(loc=lam, scale=sig, size=(self.N_side, self.N_side, self.N_side))\n",
    "        print(\"Gaussian lattice is created.\")\n",
    "        #Density contrast.\n",
    "        self.box_delx = (self.box_p - lam)/lam\n",
    "        #Now taking the fourier transform of box_delx to get box_delk\n",
    "        self.box_delk = np.fft.fftn(self.box_delx, norm='ortho')\n",
    "        temp_factor = np.power(self.dx * np.sqrt(self.N_side)/np.sqrt(2 * np.pi), 3)\n",
    "        self.box_delk = temp_factor * self.box_delk\n",
    "        #Getting the corresponding k values along 1d axis and creating a 3d grid of corresponding k value\n",
    "        #of the box_delk.\n",
    "        temp_k_vals = 2 * np.pi * np.fft.fftfreq(self.N_side, d=self.dx)\n",
    "        self.temp_k_vals =temp_k_vals\n",
    "        temb_mesh = np.meshgrid(temp_k_vals, temp_k_vals, temp_k_vals, indexing='ij')\n",
    "        self.modk_grid = np.sqrt(temb_mesh[0] ** 2 + temb_mesh[1] ** 2 + temb_mesh[2] ** 2)\n",
    "        #Finding the minimum and maximum of k values\n",
    "        self.k_min = 0\n",
    "        self.k_max = 2 * np.pi/(2 * self.dx)* np.sqrt(3)\n",
    "        #Finding the powerspectrum here.\n",
    "        self.k_intervals = np.linspace(self.k_min, self.k_max, self.N_side//2) #default k_intervals\n",
    "        self.k_intervals_mid = (self.k_intervals[:-1] + self.k_intervals[1:])/2\n",
    "        self.powerspec_pois = self.calc_powerspec_pois(self.k_intervals)\n",
    "        print(\"Poisson power spectrum calculated.\")"
   ]
  },
  {
   "cell_type": "markdown",
   "metadata": {},
   "source": [
    "## Where it all begins"
   ]
  },
  {
   "cell_type": "code",
   "execution_count": 7,
   "metadata": {},
   "outputs": [
    {
     "name": "stdout",
     "output_type": "stream",
     "text": [
      "Poisson lattice is created.\n",
      "Poisson power spectrum calculated.\n",
      "Gaussian lattice is created.\n",
      "Poisson power spectrum calculated.\n",
      "Made the clustered distribution.\n"
     ]
    },
    {
     "name": "stderr",
     "output_type": "stream",
     "text": [
      "/tmp/ipykernel_24012/4149894030.py:99: ComplexWarning: Casting complex values to real discards the imaginary part\n",
      "  self._2pcorrfunc[i] = np.sum((self.box_delx_clust[:self.N_side-temp_x,:,:]) * (self.box_delx_clust[temp_x:,:,:]))/ (self.N_side** 3)\n"
     ]
    },
    {
     "name": "stdout",
     "output_type": "stream",
     "text": [
      "2 point correlation function calculated.\n",
      "The measured 2pcf of box_delx_clust is fitted to a power law\n"
     ]
    },
    {
     "data": {
      "text/plain": [
       "<matplotlib.legend.Legend at 0x7fe1a854baf0>"
      ]
     },
     "execution_count": 7,
     "metadata": {},
     "output_type": "execute_result"
    },
    {
     "data": {
      "image/png": "[encoded data removed]",
      "text/plain": [
       "<Figure size 640x480 with 1 Axes>"
      ]
     },
     "metadata": {},
     "output_type": "display_data"
    }
   ],
   "source": [
    "N_side = 256\n",
    "dx = 0.05\n",
    "n_bar = 50\n",
    "const_of_pk = 2.0\n",
    "delta_of_pk = 1.0\n",
    "\n",
    "sample_clust = clust_dist(N_side, dx, n_bar)\n",
    "\n",
    "sample_clust.initialize_gauss(50, 5)\n",
    "# print(sample_clust.k_intervals)\n",
    "# new_k_intervals = np.concatenate((np.linspace(sample_clust.k_min, (sample_clust.k_max)/2, N_side//4), np.linspace((sample_clust.k_max)/2, sample_clust.k_max, N_side//2)))\n",
    "# new_k_intervals = np.linspace(sample_clust.k_min, sample_clust.k_max, N_side)\n",
    "# sample_clust.update_k_intervals(new_k_intervals)\n",
    "# print(sample_clust.k_intervals)\n",
    "\n",
    "sample_clust.make_clust_dist_from_plaw_pspec(const_of_pk, delta_of_pk, sample_clust.k_intervals) \n",
    "\n",
    "sample_clust.calc_2pcorrfunc_clust(1 * dx, 20 * dx)\n",
    "\n",
    "sample_clust.fit_2pcf_clust()\n",
    "\n",
    "exp_A, exp_alpha = plaw_pspec_to_2pcf(const_of_pk, delta_of_pk)\n",
    "\n",
    "plt.plot(sample_clust.x_intervals_mid, sample_clust._2pcorrfunc, '*', label=\"Measured 2pcf of box_delx_clust\")\n",
    "plt.plot(sample_clust.x_intervals_mid, sample_clust._2pcf_fit_A * np.power(sample_clust.x_intervals_mid, -sample_clust._2pcf_fit_alpha), \\\n",
    "                label=r\"Plaw fit: $A = {}$, $\\alpha = {}$\".format(np.round(sample_clust._2pcf_fit_A,3), np.round(sample_clust._2pcf_fit_alpha,3)))\n",
    "plt.plot(sample_clust.x_intervals_mid, exp_A * np.power(sample_clust.x_intervals_mid, -exp_alpha), \\\n",
    "            label=r\"Expected: $A = {}$, $\\alpha = {}$\".format(np.round(exp_A,3), np.round(exp_alpha,3)))\n",
    "# plt.xscale('log')\n",
    "# plt.yscale('log')\n",
    "plt.legend()"
   ]
  },
  {
   "cell_type": "markdown",
   "metadata": {},
   "source": [
    "## 2pcf measurement - Corrfunc"
   ]
  },
  {
   "cell_type": "markdown",
   "metadata": {},
   "source": [
    "## 2pcf measurement - Direct"
   ]
  }
 ],
 "metadata": {
  "kernelspec": {
   "display_name": "dp2",
   "language": "python",
   "name": "python3"
  },
  "language_info": {
   "codemirror_mode": {
    "name": "ipython",
    "version": 3
   },
   "file_extension": ".py",
   "mimetype": "text/x-python",
   "name": "python",
   "nbconvert_exporter": "python",
   "pygments_lexer": "ipython3",
   "version": "3.10.9"
  }
 },
 "nbformat": 4,
 "nbformat_minor": 2
}
