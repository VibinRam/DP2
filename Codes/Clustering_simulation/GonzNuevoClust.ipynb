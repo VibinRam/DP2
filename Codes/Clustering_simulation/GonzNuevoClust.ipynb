{
 "cells": [
  {
   "cell_type": "code",
   "execution_count": 1,
   "metadata": {},
   "outputs": [],
   "source": [
    "import numpy as np\n",
    "import matplotlib.pyplot as plt\n",
    "from Corrfunc.theory.DD import DD\n",
    "import scipy.optimize as spo\n",
    "import scipy.special as sps"
   ]
  },
  {
   "cell_type": "code",
   "execution_count": 2,
   "metadata": {},
   "outputs": [],
   "source": [
    "#This function takes a 3d array of (size along each dimension = N_side) poisson values of lamda = n_bar and the desired\n",
    "# power spectrum pk_cl and returns another 3d array of the same dimension with the n(x) following pk_cl(k)\n",
    "\n",
    "def GonzNuevo(box_p, N_side, L_side, n_bar, pk_cl, k_for_P, pseudo_fact):\n",
    "    #Now pixel size of the box\n",
    "    del_x = L_side/(N_side - 1)\n",
    "\n",
    "    #Now let's get the density contrast\n",
    "    box_delx = (box_p - n_bar)/n_bar\n",
    "\n",
    "    #Now let's take the fourier transform of box_delx to get box_delk\n",
    "    box_delk = pseudo_fact * np.fft.fftn(box_delx, norm='ortho')\n",
    "\n",
    "    temp_factor = np.power(del_x * np.sqrt(N_side)/np.sqrt(2 * np.pi), 3)\n",
    "    box_delk = temp_factor * box_delk\n",
    "\n",
    "    #Getting the corresponding k values along 1d axis\n",
    "    k_vals = 2 * np.pi * np.fft.fftfreq(N_side, d=del_x) # This is removed here---- , d= del_x)    \n",
    "\n",
    "    #Power spectrum of the Poisson field box_delx\n",
    "    #First I create a 3d array of same shape as box_delk, with values equal\n",
    "    #to |k| value corresponding to same position in box_delk.\n",
    "    temb_mesh = np.meshgrid(k_vals, k_vals, k_vals, indexing='ij')\n",
    "    modk_grid = np.sqrt(temb_mesh[0] ** 2 + temb_mesh[1] ** 2 + temb_mesh[2] ** 2)\n",
    "\n",
    "    #Now let's iterate through the k_for_P and find the index of modk_grid with k\n",
    "    #that falls between and find power spectrum pk.\n",
    "    pk = np.zeros(len(k_for_P)-1)\n",
    "    for i, (k1, k2) in enumerate(zip(k_for_P[:-1], k_for_P[1:])):\n",
    "        pk[i] = np.average(np.absolute(box_delk[np.where((modk_grid >= k1) & (modk_grid < k2))]) ** 2)\n",
    "    \n",
    "    box_vol = (N_side * del_x)**3\n",
    "    pk = pk/box_vol * np.power(np.sqrt(2 * np.pi), 3)\n",
    "\n",
    "    #----------------------------------------------------------------------------------------------------\n",
    "    #plotting the pks\n",
    "    k_for_P_mid = (k_for_P[:-1] + k_for_P[1:])/2\n",
    "\n",
    "    fig, (ax1, ax2) = plt.subplots(1,2, figsize=(10,5))\n",
    "    ax1.plot(k_for_P_mid, pk)\n",
    "    ax2.plot(k_for_P_mid, pk_cl)\n",
    "\n",
    "    ax1.set_xlabel('k')\n",
    "    ax1.set_ylabel(r'$P_{pois}(k)$')\n",
    "    ax2.set_xlabel('k')\n",
    "    ax2.set_ylabel(r'$P_{cl}(k)$')\n",
    "    #----------------------------------------------------------------------------------------------------\n",
    "    \n",
    "    #Make a new delk.\n",
    "    box_delk_new = np.copy(box_delk)\n",
    "\n",
    "    #modify the delk using the chosen power spectrum\n",
    "    for i, (k1, k2) in enumerate(zip(k_for_P[:-1], k_for_P[1:])):\n",
    "        temp_ind = np.where((modk_grid >= k1) & (modk_grid < k2))\n",
    "        box_delk_new[temp_ind] = box_delk[temp_ind] * (np.sqrt(pk_cl[i] + pk[i])) / np.sqrt(pk[i])\n",
    "\n",
    "    #Now we need to inverse fourier transfor box_delk_new to get box_delx_new\n",
    "    box_delx_new = pseudo_fact * np.fft.ifftn(box_delk_new, norm='ortho')\n",
    "    \n",
    "    #Now again we have to add the factors\n",
    "    del_k = 2 * np.pi/(N_side * del_x)\n",
    "    temp_factor = np.power(del_k * np.sqrt(N_side)/np.sqrt(2 * np.pi), 3)\n",
    "    box_delx_new = temp_factor * box_delx_new\n",
    "\n",
    "    #Now to get the new n(x)\n",
    "    #box_GN = np.asarray(np.round(n_bar * (1 + box_delx_new)), dtype='int64')\n",
    "    box_GN = box_delx_new # n_bar * (1 + box_delx_new) #np.where(box_delx_new<0, 0, box_delx_new))  #I have made all the negative values in box_delx_new to 0\n",
    "\n",
    "\n",
    "    #-------------------------------------------------------------------------------------------------------\n",
    "    #finding the new power spectrum\n",
    "    pk_new = np.zeros(len(k_for_P)-1)\n",
    "    for i, (k1, k2) in enumerate(zip(k_for_P[:-1], k_for_P[1:])):\n",
    "        pk_new[i] = np.average(np.absolute(box_delk_new[np.where((modk_grid >= k1) & (modk_grid < k2))]) ** 2)\n",
    "    \n",
    "    pk_new = pk_new/box_vol * np.power(np.sqrt(2 * np.pi), 3)\n",
    "\n",
    "    #plotting the new psd vs the given one\n",
    "    fig, (ax1, ax2) = plt.subplots(1, 2, figsize=(10,5))\n",
    "    ax1.plot(k_for_P_mid, pk_new, label=r'$P_{new}(k)$')\n",
    "    ax1.plot(k_for_P_mid, pk_cl, label=r'$P_{cl}(k)$')\n",
    "    ax1.set_xlabel('k')\n",
    "    ax1.set_ylabel(r'$P(k)$')\n",
    "    ax1.legend()\n",
    "    ax2.plot(k_for_P_mid, pk_new-pk_cl, label=r'$P_{new}(k) - P_{cl}(k)$')\n",
    "    ax2.set_xlabel('k')\n",
    "    ax2.legend()\n",
    "    #-------------------------------------------------------------------------------------------------------\n",
    "\n",
    "    return box_GN"
   ]
  },
  {
   "cell_type": "code",
   "execution_count": 44,
   "metadata": {},
   "outputs": [],
   "source": [
    "class clust_dist:\n",
    "    def __init__(self, N_side, dx, n_bar) -> None:\n",
    "        self.N_side = N_side\n",
    "        self.dx = dx\n",
    "        self.n_bar = n_bar\n",
    "        #dk of the fourier lattice.\n",
    "        self.dk = 2 * np.pi/(self.N_side * self.dx)\n",
    "\n",
    "        #Creating a box with N_side^3 dimension and fill it with poisson random numbers with lambda=n_bar.\n",
    "        self.box_p = np.random.poisson(lam=n_bar, size=(N_side, N_side, N_side))\n",
    "        print(\"Poisson lattice is created.\")\n",
    "        #Density contrast.\n",
    "        self.box_delx = (self.box_p - n_bar)/n_bar\n",
    "        #Now taking the fourier transform of box_delx to get box_delk\n",
    "        self.box_delk = np.fft.fftn(self.box_delx, norm='ortho')\n",
    "        temp_factor = np.power(self.dx * np.sqrt(self.N_side)/np.sqrt(2 * np.pi), 3)\n",
    "        self.box_delk = temp_factor * self.box_delk\n",
    "        #Getting the corresponding k values along 1d axis and creating a 3d grid of corresponding k value\n",
    "        #of the box_delk.\n",
    "        temp_k_vals = 2 * np.pi * np.fft.fftfreq(self.N_side, d=self.dx)\n",
    "        temb_mesh = np.meshgrid(temp_k_vals, temp_k_vals, temp_k_vals, indexing='ij')\n",
    "        self.modk_grid = np.sqrt(temb_mesh[0] ** 2 + temb_mesh[1] ** 2 + temb_mesh[2] ** 2)\n",
    "        #Finding the minimum and maximum of k values\n",
    "        self.k_min = 0\n",
    "        self.k_max = 2 * np.pi/(2 * self.dx)* np.sqrt(3)\n",
    "        #Finding the powerspectrum here.\n",
    "        self.k_intervals = np.linspace(self.k_min, self.k_max, self.N_side//2) #default k_intervals\n",
    "        self.k_intervals_mid = (self.k_intervals[:-1] + self.k_intervals[1:])/2\n",
    "        self.powerspec_pois = self.calc_powerspec_pois(self.k_intervals)\n",
    "        print(\"Poisson power spectrum calculated.\")\n",
    "    \n",
    "    def calc_powerspec_pois(self, k_intervals):\n",
    "        #Finding the powerspectrum here. Iterate through the k_for_P and find the index of modk_grid with k\n",
    "        #that falls between and find power spectrum pk.\n",
    "        powerspec = np.zeros(len(k_intervals)-1)\n",
    "        for i, (k1, k2) in enumerate(zip(k_intervals[:-1], k_intervals[1:])):\n",
    "            powerspec[i] = np.average(np.absolute(self.box_delk[np.where((self.modk_grid >= k1) & (self.modk_grid < k2))]) ** 2)\n",
    "        powerspec = powerspec/((self.N_side * self.dx)**3) * np.power(np.sqrt(2 * np.pi), 3)\n",
    "\n",
    "        return powerspec\n",
    "    \n",
    "    def update_k_intervals(self, k_intervals):\n",
    "        ##Assert that the given k_intervals have appropriate k_min and k_max\n",
    "        assert k_intervals[0] == self.k_min\n",
    "        assert k_intervals[-1] == self.k_max\n",
    "        #updating the k_intervals\n",
    "        self.k_intervals = np.copy(k_intervals)\n",
    "        self.powerspec_pois = self.calc_powerspec_pois(self.k_intervals)\n",
    "\n",
    "    def make_clust_dist(self, powerspec_clust, k_intervals):\n",
    "        #Making the new box_delk_clust. Right now, whenever we call this method, the previous box_delk_clust if any\n",
    "        #will be erased.\n",
    "        self.box_delk_clust = np.copy(self.box_delk)\n",
    "        #Modifying the box-delk_clust to have the input powerspectrum.\n",
    "        for i, (k1, k2) in enumerate(zip(k_intervals[:-1], k_intervals[1:])):\n",
    "            temp_ind = np.where((self.modk_grid >= k1) & (self.modk_grid < k2))\n",
    "            self.box_delk_clust[temp_ind] = self.box_delk[temp_ind] * (np.sqrt(powerspec_clust[i] + self.powerspec_pois[i])) / np.sqrt(self.powerspec_pois[i])\n",
    "        #Defining the input powerspec as the powerspec of box_delk_clust\n",
    "        self.powerspec_clust = np.copy(powerspec_clust)\n",
    "        self.update_k_intervals(k_intervals)\n",
    "        #Now we need to inverse fourier transfor box_delk_clust to get box_delx_clust\n",
    "        self.box_delx_clust = np.fft.ifftn(self.box_delk_clust, norm='ortho')\n",
    "        temp_factor = np.power(self.dk * np.sqrt(self.N_side)/np.sqrt(2 * np.pi), 3)\n",
    "        self.box_delx_clust = temp_factor * self.box_delx_clust\n",
    "        #Create the new n(x) array.\n",
    "        self.box_GN = self.n_bar * (1 + self.box_delx_clust)\n",
    "        print(\"Made the clustered distribution.\")\n",
    "\n",
    "    def calc_2pcorrfunc_clust(self, x_min, x_max):\n",
    "        assert x_min > 0\n",
    "        assert x_max > x_min\n",
    "        # assert issubclass(x_intervals_int.dtype.int, np.integer)\n",
    "        # min and max integer between given interval\n",
    "        x_min_int = int(x_min//self.dx + 1)\n",
    "        x_max_int = int(x_max//self.dx)\n",
    "        #defining the x intervals in which we calculate the 2pcf\n",
    "        self.x_intervals_mid = np.arange(x_min_int, x_max_int) * self.dx\n",
    "        self._2pcorrfunc = np.zeros_like(self.x_intervals_mid)\n",
    "        for i, temp_x in enumerate(np.arange(x_min_int, x_max_int)):\n",
    "            self._2pcorrfunc[i] = np.sum((self.box_delx_clust[:self.N_side-temp_x,:,:]) * (self.box_delx_clust[temp_x:,:,:]))/ (self.N_side** 3)\n",
    "        print(\"2 point correlation function calculated.\")\n"
   ]
  },
  {
   "cell_type": "code",
   "execution_count": 45,
   "metadata": {},
   "outputs": [
    {
     "name": "stdout",
     "output_type": "stream",
     "text": [
      "Poisson lattice is created.\n",
      "Poisson power spectrum calculated.\n"
     ]
    }
   ],
   "source": [
    "sample_clust = clust_dist(32, 1.0, 5)"
   ]
  },
  {
   "cell_type": "code",
   "execution_count": 46,
   "metadata": {},
   "outputs": [
    {
     "name": "stdout",
     "output_type": "stream",
     "text": [
      "Made the clustered distribution.\n"
     ]
    }
   ],
   "source": [
    "sample_pk = np.power(sample_clust.k_intervals_mid, -2.0)\n",
    "sample_clust.make_clust_dist(sample_pk, sample_clust.k_intervals) "
   ]
  },
  {
   "cell_type": "code",
   "execution_count": 47,
   "metadata": {},
   "outputs": [
    {
     "name": "stdout",
     "output_type": "stream",
     "text": [
      "2 point correlation function calculated.\n"
     ]
    },
    {
     "name": "stderr",
     "output_type": "stream",
     "text": [
      "/tmp/ipykernel_2139034/2935054104.py:80: ComplexWarning: Casting complex values to real discards the imaginary part\n",
      "  self._2pcorrfunc[i] = np.sum((self.box_delx_clust[:self.N_side-temp_x,:,:]) * (self.box_delx_clust[temp_x:,:,:]))/ (self.N_side** 3)\n"
     ]
    }
   ],
   "source": [
    "sample_clust.calc_2pcorrfunc_clust(1.0, 14.5)"
   ]
  },
  {
   "cell_type": "code",
   "execution_count": 48,
   "metadata": {},
   "outputs": [
    {
     "data": {
      "text/plain": [
       "[<matplotlib.lines.Line2D at 0x7fe95992cd30>]"
      ]
     },
     "execution_count": 48,
     "metadata": {},
     "output_type": "execute_result"
    },
    {
     "data": {
      "image/png": "[encoded data removed]",
      "text/plain": [
       "<Figure size 640x480 with 1 Axes>"
      ]
     },
     "metadata": {},
     "output_type": "display_data"
    }
   ],
   "source": [
    "plt.plot(sample_clust.x_intervals_mid, sample_clust._2pcorrfunc)"
   ]
  }
 ],
 "metadata": {
  "kernelspec": {
   "display_name": "dp2",
   "language": "python",
   "name": "python3"
  },
  "language_info": {
   "codemirror_mode": {
    "name": "ipython",
    "version": 3
   },
   "file_extension": ".py",
   "mimetype": "text/x-python",
   "name": "python",
   "nbconvert_exporter": "python",
   "pygments_lexer": "ipython3",
   "version": "3.10.9"
  }
 },
 "nbformat": 4,
 "nbformat_minor": 2
}
