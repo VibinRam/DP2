{
 "cells": [
  {
   "cell_type": "code",
   "execution_count": 1,
   "metadata": {},
   "outputs": [],
   "source": [
    "import numpy as np\n",
    "import matplotlib.pyplot as plt\n",
    "from Corrfunc.theory.DD import DD\n",
    "import scipy.optimize as spo\n",
    "import scipy.special as sps"
   ]
  },
  {
   "cell_type": "code",
   "execution_count": 17,
   "metadata": {},
   "outputs": [],
   "source": [
    "#This function takes a 3d array of (size along each dimension = N_side) poisson values of lamda = n_bar and the desired\n",
    "# power spectrum pk_cl and returns another 3d array of the same dimension with the n(x) following pk_cl(k)\n",
    "\n",
    "def GonzNuevo(box_p, N_side, L_side, n_bar, pk_cl, k_for_P):\n",
    "    #Now pixel size of the box\n",
    "    del_x = L_side/(N_side - 1)\n",
    "\n",
    "    #Now let's get the density contrast\n",
    "    box_delx = (box_p - n_bar)/n_bar\n",
    "\n",
    "    #Now let's take the fourier transform of box_delx to get box_delk\n",
    "    box_delk = np.fft.fftn(box_delx, norm='ortho')\n",
    "\n",
    "    temp_factor = np.power(del_x * np.sqrt(N_side)/np.sqrt(2 * np.pi), 3)\n",
    "    box_delk = temp_factor * box_delk\n",
    "\n",
    "    #Getting the corresponding k values along 1d axis\n",
    "    k_vals = np.fft.fftfreq(N_side, d= del_x)    \n",
    "\n",
    "    #Power spectrum of the Poisson field box_delx\n",
    "    #First I create a 3d array of same shape as box_delk, with values equal\n",
    "    #to |k| value corresponding to same position in box_delk.\n",
    "    temb_mesh = np.meshgrid(k_vals, k_vals, k_vals, indexing='ij')\n",
    "    modk_grid = np.sqrt(temb_mesh[0] ** 2 + temb_mesh[1] ** 2 + temb_mesh[2] ** 2)\n",
    "\n",
    "    #Now let's iterate through the k_for_P and find the index of modk_grid with k\n",
    "    #that falls between and find power spectrum pk.\n",
    "    pk = np.zeros(len(k_for_P)-1)\n",
    "    for i, (k1, k2) in enumerate(zip(k_for_P[:-1], k_for_P[1:])):\n",
    "        pk[i] = np.average(np.absolute(box_delk[np.where((modk_grid > k1) & (modk_grid < k2))]) ** 2)\n",
    "    \n",
    "    box_vol = L_side**3\n",
    "    pk = pk/box_vol\n",
    "\n",
    "    #----------------------------------------------------------------------------------------------------\n",
    "    #plotting the pks\n",
    "    k_for_P_mid = (k_for_P[:-1] + k_for_P[1:])/2\n",
    "\n",
    "    fig, (ax1, ax2) = plt.subplots(1,2, figsize=(10,5))\n",
    "    ax1.plot(k_for_P_mid, pk)\n",
    "    ax2.plot(k_for_P_mid, pk_cl)\n",
    "\n",
    "    ax1.set_xlabel('k')\n",
    "    ax1.set_ylabel(r'$P_{pois}(k)$')\n",
    "    ax2.set_xlabel('k')\n",
    "    ax2.set_ylabel(r'$P_{cl}(k)$')\n",
    "    #----------------------------------------------------------------------------------------------------\n",
    "    \n",
    "    #Make a new delk.\n",
    "    box_delk_new = np.copy(box_delk)\n",
    "\n",
    "    #modify the delk using the chosen power spectrum\n",
    "    for i, (k1, k2) in enumerate(zip(k_for_P[:-1], k_for_P[1:])):\n",
    "        temp_ind = np.where((modk_grid > k1) & (modk_grid < k2))\n",
    "        box_delk_new[temp_ind] = box_delk[temp_ind] * (np.sqrt(pk_cl[i] + pk[i])) / np.sqrt(pk[i])\n",
    "\n",
    "    #Now we need to inverse fourier transfor box_delk_new to get box_delx_new\n",
    "    box_delx_new = np.fft.ifftn(box_delk_new, norm='ortho')\n",
    "    \n",
    "    #Now again we have to add the factors\n",
    "    del_k = 1/(N_side * del_x)\n",
    "    temp_factor = np.power(del_k * np.sqrt(N_side)/np.sqrt(2 * np.pi), 3)\n",
    "    box_delx_new = temp_factor * box_delx_new\n",
    "\n",
    "    #Now to get the new n(x)\n",
    "    #box_GN = np.asarray(np.round(n_bar * (1 + box_delx_new)), dtype='int64')\n",
    "    box_GN = n_bar * (1 + box_delx_new)\n",
    "\n",
    "\n",
    "    #-------------------------------------------------------------------------------------------------------\n",
    "    #finding the new power spectrum\n",
    "    pk_new = np.zeros(len(k_for_P)-1)\n",
    "    for i, (k1, k2) in enumerate(zip(k_for_P[:-1], k_for_P[1:])):\n",
    "        pk_new[i] = np.average(np.absolute(box_delk_new[np.where((modk_grid > k1) & (modk_grid < k2))]) ** 2)\n",
    "    \n",
    "    pk_new = pk_new/box_vol\n",
    "\n",
    "    #plotting the new psd vs the given one\n",
    "    fig, (ax1, ax2) = plt.subplots(1, 2, figsize=(10,5))\n",
    "    ax1.plot(k_for_P_mid, pk_new, label=r'$P_{new}(k)$')\n",
    "    ax1.plot(k_for_P_mid, pk_cl, label=r'$P_{cl}(k)$')\n",
    "    ax1.set_xlabel('k')\n",
    "    ax1.set_ylabel(r'$P(k)$')\n",
    "    ax1.legend()\n",
    "    ax2.plot(k_for_P_mid, pk_new-pk_cl, label=r'$P_{new}(k) - P_{cl}(k)$')\n",
    "    ax2.set_xlabel('k')\n",
    "    ax2.legend()\n",
    "    #-------------------------------------------------------------------------------------------------------\n",
    "\n",
    "    return box_GN"
   ]
  },
  {
   "cell_type": "code",
   "execution_count": 28,
   "metadata": {},
   "outputs": [
    {
     "name": "stderr",
     "output_type": "stream",
     "text": [
      "/tmp/ipykernel_1348075/125044154.py:42: ComplexWarning: Casting complex values to real discards the imaginary part\n",
      "  weights1 = np.asarray(box_GN.flatten(), dtype='float')\n"
     ]
    }
   ],
   "source": [
    "#Let's create a well defined box to hold the number of particles, box_p. \n",
    "N_side = 32\n",
    "#Choose the mean number of particles, n_bar\n",
    "n_bar = 50\n",
    "#Choose the total physical length of the box\n",
    "L_side = 31\n",
    "#Now pixel size of the box\n",
    "del_x = L_side/(N_side - 1)\n",
    "\n",
    "#Populate box_p with number of particles drawn from Poisson with mean n_bar.\n",
    "box_p = np.random.poisson(lam=n_bar, size=(N_side, N_side, N_side))\n",
    "\n",
    "#Lets make the k's needed for the power spectrum.\n",
    "k_min = 1/(N_side * del_x)\n",
    "k_max = 1/(2 * del_x)\n",
    "assert (N_side % 2 == 0)\n",
    "k_for_P = np.linspace(k_min, k_max, N_side//2)\n",
    "\n",
    "#Now we have to make a desired power spectrum pk_cl\n",
    "delta_of_k = 2.2\n",
    "const_of_k = 1\n",
    "k_for_P_mid = (k_for_P[:-1] + k_for_P[1:])/2\n",
    "pk_cl = np.power(const_of_k * k_for_P_mid, -delta_of_k)\n",
    "\n",
    "box_GN = GonzNuevo(box_p, N_side, L_side, n_bar, pk_cl, k_for_P);\n",
    "plt.close('all')\n",
    "\n",
    "\n",
    "#Let me make another box, which we will fill with Poisson drawn numbers.\n",
    "#This will be used as the random catalog in our analysis.\n",
    "N_side_r = N_side\n",
    "n_bar_r = n_bar\n",
    "\n",
    "box_r = np.random.poisson(lam=n_bar_r, size=(N_side_r, N_side_r, N_side_r))\n",
    "\n",
    "#Now we can find the correlation function of box_GN. Using the same way.\n",
    "bins = np.arange(1, N_side)\n",
    "x1, y1, z1 = np.asarray(np.meshgrid(np.arange(N_side), np.arange(N_side), np.arange(N_side), indexing='xy'), dtype='float')\n",
    "x1 = x1.flatten()\n",
    "y1 = y1.flatten()\n",
    "z1 = z1.flatten()\n",
    "weights1 = np.asarray(box_GN.flatten(), dtype='float')\n",
    "\n",
    "result_DD_GN = DD(autocorr=1, nthreads=1, binfile=bins, X1 = x1, Y1 = y1, Z1 = z1, weights1=weights1, weight_type='pair_product', periodic=False, output_ravg=True)\n",
    "\n",
    "#Lets find similarly the DR and RR.\n",
    "weights2 = np.asarray(box_r.flatten(), dtype='float')\n",
    "x_r, y_r, z_r = np.asarray(np.meshgrid(np.arange(N_side_r), np.arange(N_side_r), np.arange(N_side_r), indexing='xy'), dtype='float')\n",
    "x_r = x_r.flatten()\n",
    "y_r = y_r.flatten()\n",
    "z_r = z_r.flatten()\n",
    "result_RR_GN = DD(autocorr=1, nthreads=1, binfile=bins, X1 = x_r, Y1 = y_r, Z1 = z_r, weights1 = weights2, weight_type='pair_product', periodic=False, output_ravg=True)\n",
    "\n",
    "result_DR_GN = DD(autocorr=0, nthreads=1, binfile=bins, X1 = x1, Y1 = y1, Z1 = z1, weights1=weights1, X2 = x_r, Y2 = y_r, Z2 = z_r, weights2 = weights2, \\\n",
    "               weight_type='pair_product', periodic=False, output_ravg=True)\n",
    "\n",
    "#Now with DD, RR and DR that we obtained, we will find the xi(r), two point correlation function.\n",
    "#We need normalisation also, which is the total number of pairs.\n",
    "DD_count_GN = (result_DD_GN['npairs']*result_DD_GN['weightavg'])/2\n",
    "DR_count_GN = result_DR_GN['npairs']*result_DR_GN['weightavg']\n",
    "RR_count_GN = (result_RR_GN['npairs']*result_RR_GN['weightavg'])/2\n",
    "DD_total_GN = (np.sum(weights1) * (np.sum(weights1) - 1))/2\n",
    "RR_total_GN = (np.sum(weights2) * (np.sum(weights2) - 1))/2\n",
    "DR_total_GN = (np.sum(weights1) * np.sum(weights2))\n",
    "\n",
    "Xi_GN = (DD_count_GN/DD_total_GN - 2 * DR_count_GN/DR_total_GN + RR_count_GN/RR_total_GN)/(RR_count_GN/RR_total_GN)"
   ]
  },
  {
   "cell_type": "code",
   "execution_count": 18,
   "metadata": {},
   "outputs": [
    {
     "data": {
      "text/plain": [
       "array([ 0.,  0.,  0., ..., 31., 31., 31.])"
      ]
     },
     "execution_count": 18,
     "metadata": {},
     "output_type": "execute_result"
    }
   ],
   "source": []
  },
  {
   "cell_type": "code",
   "execution_count": 29,
   "metadata": {},
   "outputs": [
    {
     "data": {
      "text/plain": [
       "<matplotlib.legend.Legend at 0x7f7deb66e470>"
      ]
     },
     "execution_count": 29,
     "metadata": {},
     "output_type": "execute_result"
    },
    {
     "data": {
      "image/png": "[encoded data removed]",
      "text/plain": [
       "<Figure size 640x480 with 1 Axes>"
      ]
     },
     "metadata": {},
     "output_type": "display_data"
    }
   ],
   "source": [
    "#Fitting the Xi_GN with a power law function to check what degree of correlation we get\n",
    "def pow_func(r, A, alpha):\n",
    "    return A * np.power(r, -alpha)\n",
    "\n",
    "r_bins = bins * del_x\n",
    "r_mid = (r_bins[:-1] + r_bins[1:])/2\n",
    "\n",
    "popt, pcov = spo.curve_fit(pow_func, r_mid, Xi_GN)\n",
    "\n",
    "fig, ax = plt.subplots()\n",
    "\n",
    "ax.plot(r_mid, Xi_GN, '*', label = r\"Xi_GN_data with $P(k) = k^{{-{}}}$\".format(delta_of_k))\n",
    "ax.plot(r_mid, pow_func(r_mid, popt[0], popt[1]), label=r'$Ar^{{-\\alpha}}$ fit, $\\alpha = {}\\pm{}$, A = {}'.format(np.round(popt[1],3),np.round(np.sqrt(pcov[1,1]), 2), np.round(popt[0],3)))\n",
    "ax.set_xlabel('r')\n",
    "ax.set_ylabel('Xi(r)')\n",
    "\n",
    "#Expected correlation function\n",
    "alpha_expect = 3 - delta_of_k\n",
    "A_expect = (sps.gamma(alpha_expect/2))/ (const_of_k * np.power(2, 1 - alpha_expect/2) * sps.gamma((3 - alpha_expect)/2))\n",
    "#ax.plot(r_mid, pow_func(r_mid, A_expect, alpha_expect), label=r\"Expected $\\xi(r)$: $\\alpha = {}, A = {}$\".format(np.round(alpha_expect,3), np.round(A_expect,3)))\n",
    "\n",
    "ax.legend()"
   ]
  },
  {
   "cell_type": "code",
   "execution_count": 19,
   "metadata": {},
   "outputs": [],
   "source": [
    "temp_box = np.array([])"
   ]
  },
  {
   "cell_type": "code",
   "execution_count": 20,
   "metadata": {},
   "outputs": [
    {
     "data": {
      "text/plain": [
       "array([[[ 0.,  0.,  0., ...,  0.,  0.,  0.],\n",
       "        [ 1.,  1.,  1., ...,  1.,  1.,  1.],\n",
       "        [ 2.,  2.,  2., ...,  2.,  2.,  2.],\n",
       "        ...,\n",
       "        [29., 29., 29., ..., 29., 29., 29.],\n",
       "        [30., 30., 30., ..., 30., 30., 30.],\n",
       "        [31., 31., 31., ..., 31., 31., 31.]],\n",
       "\n",
       "       [[ 0.,  0.,  0., ...,  0.,  0.,  0.],\n",
       "        [ 1.,  1.,  1., ...,  1.,  1.,  1.],\n",
       "        [ 2.,  2.,  2., ...,  2.,  2.,  2.],\n",
       "        ...,\n",
       "        [29., 29., 29., ..., 29., 29., 29.],\n",
       "        [30., 30., 30., ..., 30., 30., 30.],\n",
       "        [31., 31., 31., ..., 31., 31., 31.]],\n",
       "\n",
       "       [[ 0.,  0.,  0., ...,  0.,  0.,  0.],\n",
       "        [ 1.,  1.,  1., ...,  1.,  1.,  1.],\n",
       "        [ 2.,  2.,  2., ...,  2.,  2.,  2.],\n",
       "        ...,\n",
       "        [29., 29., 29., ..., 29., 29., 29.],\n",
       "        [30., 30., 30., ..., 30., 30., 30.],\n",
       "        [31., 31., 31., ..., 31., 31., 31.]],\n",
       "\n",
       "       ...,\n",
       "\n",
       "       [[ 0.,  0.,  0., ...,  0.,  0.,  0.],\n",
       "        [ 1.,  1.,  1., ...,  1.,  1.,  1.],\n",
       "        [ 2.,  2.,  2., ...,  2.,  2.,  2.],\n",
       "        ...,\n",
       "        [29., 29., 29., ..., 29., 29., 29.],\n",
       "        [30., 30., 30., ..., 30., 30., 30.],\n",
       "        [31., 31., 31., ..., 31., 31., 31.]],\n",
       "\n",
       "       [[ 0.,  0.,  0., ...,  0.,  0.,  0.],\n",
       "        [ 1.,  1.,  1., ...,  1.,  1.,  1.],\n",
       "        [ 2.,  2.,  2., ...,  2.,  2.,  2.],\n",
       "        ...,\n",
       "        [29., 29., 29., ..., 29., 29., 29.],\n",
       "        [30., 30., 30., ..., 30., 30., 30.],\n",
       "        [31., 31., 31., ..., 31., 31., 31.]],\n",
       "\n",
       "       [[ 0.,  0.,  0., ...,  0.,  0.,  0.],\n",
       "        [ 1.,  1.,  1., ...,  1.,  1.,  1.],\n",
       "        [ 2.,  2.,  2., ...,  2.,  2.,  2.],\n",
       "        ...,\n",
       "        [29., 29., 29., ..., 29., 29., 29.],\n",
       "        [30., 30., 30., ..., 30., 30., 30.],\n",
       "        [31., 31., 31., ..., 31., 31., 31.]]])"
      ]
     },
     "execution_count": 20,
     "metadata": {},
     "output_type": "execute_result"
    }
   ],
   "source": [
    "x1"
   ]
  }
 ],
 "metadata": {
  "kernelspec": {
   "display_name": "dp2",
   "language": "python",
   "name": "python3"
  },
  "language_info": {
   "codemirror_mode": {
    "name": "ipython",
    "version": 3
   },
   "file_extension": ".py",
   "mimetype": "text/x-python",
   "name": "python",
   "nbconvert_exporter": "python",
   "pygments_lexer": "ipython3",
   "version": "3.10.9"
  },
  "orig_nbformat": 4
 },
 "nbformat": 4,
 "nbformat_minor": 2
}
